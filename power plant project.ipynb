{
 "cells": [
  {
   "cell_type": "markdown",
   "id": "a039cd10",
   "metadata": {},
   "source": [
    "# Power Plant Project - \n",
    "# Predicting Net Hourly Electrical Energy Output in a Combined-Cycle Power Plant"
   ]
  },
  {
   "cell_type": "markdown",
   "id": "609a467a",
   "metadata": {},
   "source": [
    "### Problem Description:"
   ]
  },
  {
   "cell_type": "markdown",
   "id": "fb8a28bd",
   "metadata": {},
   "source": [
    "VATA power, a reputed corporation has many power plants throughout the country,\n",
    "It's most recent instalment being A combined-cycle power plant that uses both gas\n",
    "and a steam turbine together to produce up to 50 percent more electricity from the\n",
    "same fuel than a traditional simple-cycle plant. The waste heat from the gas turbine\n",
    "is routed to the nearby steam turbine, which generates extra power. it has recently\n",
    "received an official notification from ICES(International council of Energy\n",
    "sustainability) to submit a report on the combined cycle power plant. You have been\n",
    "appointed the chief of committee responsible for drafting the report, your task is to\n",
    "create a Machine Learning Model to predict the net hourly electrical energy output\n",
    "(PE) of the plant. Your dataset has data over 6 years (2006-2011) when the power\n",
    "plant was set to work with a full load and contains the following important features\n",
    "necessary to predict the outcome"
   ]
  },
  {
   "cell_type": "markdown",
   "id": "8ee33a8b",
   "metadata": {},
   "source": [
    "## 1. Import Libraries"
   ]
  },
  {
   "cell_type": "code",
   "execution_count": 2,
   "id": "74fb2851",
   "metadata": {},
   "outputs": [],
   "source": [
    "import pandas as pd\n",
    "import numpy as np\n",
    "\n",
    "#visualization\n",
    "import matplotlib.pyplot as plt\n",
    "import seaborn as sns\n",
    "\n",
    "import re\n",
    "\n",
    "# train_test_split\n",
    "from sklearn.model_selection import train_test_split\n",
    "\n",
    "#scaling\n",
    "from sklearn.preprocessing import StandardScaler\n",
    "\n",
    "#evaluation metrics\n",
    "from sklearn.metrics import mean_squared_error, mean_absolute_error, r2_score\n",
    "\n",
    "#ml Algorithms\n",
    "from sklearn.linear_model import LinearRegression\n",
    "from sklearn.ensemble import RandomForestRegressor\n",
    "from sklearn.tree import DecisionTreeRegressor\n",
    "from sklearn.neighbors import KNeighborsRegressor\n",
    "\n",
    "#tuning\n",
    "from sklearn.model_selection import GridSearchCV"
   ]
  },
  {
   "cell_type": "markdown",
   "id": "a009256e",
   "metadata": {},
   "source": [
    "## 2. Load Data"
   ]
  },
  {
   "cell_type": "code",
   "execution_count": 3,
   "id": "6a2da46e",
   "metadata": {},
   "outputs": [],
   "source": [
    "#load the data\n",
    "data = pd.read_csv(\"Electric Station Data.csv\")"
   ]
  },
  {
   "cell_type": "code",
   "execution_count": 4,
   "id": "139e88a7",
   "metadata": {},
   "outputs": [
    {
     "data": {
      "text/html": [
       "<div>\n",
       "<style scoped>\n",
       "    .dataframe tbody tr th:only-of-type {\n",
       "        vertical-align: middle;\n",
       "    }\n",
       "\n",
       "    .dataframe tbody tr th {\n",
       "        vertical-align: top;\n",
       "    }\n",
       "\n",
       "    .dataframe thead th {\n",
       "        text-align: right;\n",
       "    }\n",
       "</style>\n",
       "<table border=\"1\" class=\"dataframe\">\n",
       "  <thead>\n",
       "    <tr style=\"text-align: right;\">\n",
       "      <th></th>\n",
       "      <th>Temp</th>\n",
       "      <th>Vacuum</th>\n",
       "      <th>Pressure</th>\n",
       "      <th>Plant</th>\n",
       "      <th>Humidity</th>\n",
       "      <th>Energy</th>\n",
       "      <th>TempDiff</th>\n",
       "      <th>PressureDiff</th>\n",
       "      <th>RHSquared</th>\n",
       "      <th>Testing Type</th>\n",
       "      <th>Place</th>\n",
       "      <th>PowerPerFuel</th>\n",
       "      <th>TempVacuum</th>\n",
       "    </tr>\n",
       "  </thead>\n",
       "  <tbody>\n",
       "    <tr>\n",
       "      <th>0</th>\n",
       "      <td>29.95</td>\n",
       "      <td>NaN</td>\n",
       "      <td>1011.44#$&amp;!$</td>\n",
       "      <td>Amrita Energy Systems</td>\n",
       "      <td>66.32</td>\n",
       "      <td>432.81</td>\n",
       "      <td>-43.47</td>\n",
       "      <td>938.0200000000001</td>\n",
       "      <td>NaN</td>\n",
       "      <td>Development Phase</td>\n",
       "      <td>Coimbatore</td>\n",
       "      <td>0.196828</td>\n",
       "      <td>2198.929</td>\n",
       "    </tr>\n",
       "    <tr>\n",
       "      <th>1</th>\n",
       "      <td>5.76r</td>\n",
       "      <td>40.07</td>\n",
       "      <td>1013.22</td>\n",
       "      <td>Amrita Energy Systems</td>\n",
       "      <td>62.99</td>\n",
       "      <td>494.67</td>\n",
       "      <td>-34.31</td>\n",
       "      <td>973.15II@</td>\n",
       "      <td>3967.7401000000004</td>\n",
       "      <td>Development Phase</td>\n",
       "      <td>Coimbatore</td>\n",
       "      <td>2.143255</td>\n",
       "      <td>230.8032</td>\n",
       "    </tr>\n",
       "    <tr>\n",
       "      <th>2</th>\n",
       "      <td>29.44</td>\n",
       "      <td>NaN</td>\n",
       "      <td>1011.4</td>\n",
       "      <td>Amrita Energy Systems</td>\n",
       "      <td>61.78</td>\n",
       "      <td>442.32</td>\n",
       "      <td>-34.89</td>\n",
       "      <td>947.0699999999999</td>\n",
       "      <td>NaN</td>\n",
       "      <td>Development Phase</td>\n",
       "      <td>Coimbatore</td>\n",
       "      <td>0.233553</td>\n",
       "      <td>1893.8752</td>\n",
       "    </tr>\n",
       "    <tr>\n",
       "      <th>3</th>\n",
       "      <td>32.83#</td>\n",
       "      <td>74.33</td>\n",
       "      <td>1011.44</td>\n",
       "      <td>Amrita Energy Systems</td>\n",
       "      <td>50.42</td>\n",
       "      <td>427.36</td>\n",
       "      <td>-41.5</td>\n",
       "      <td>937.11</td>\n",
       "      <td>2542.1764000000003</td>\n",
       "      <td>Development Phase</td>\n",
       "      <td>Coimbatore</td>\n",
       "      <td>0.175129</td>\n",
       "      <td>2440.2538999999997</td>\n",
       "    </tr>\n",
       "    <tr>\n",
       "      <th>4</th>\n",
       "      <td>16.86</td>\n",
       "      <td>39.63</td>\n",
       "      <td>1004.47</td>\n",
       "      <td>Amrita Energy Systems</td>\n",
       "      <td>83.5</td>\n",
       "      <td>466.68</td>\n",
       "      <td>-22.770000000000003</td>\n",
       "      <td>NaN</td>\n",
       "      <td>6972.25</td>\n",
       "      <td>Development Phase</td>\n",
       "      <td>Coimbatore</td>\n",
       "      <td>0.698454</td>\n",
       "      <td>668.1618</td>\n",
       "    </tr>\n",
       "  </tbody>\n",
       "</table>\n",
       "</div>"
      ],
      "text/plain": [
       "     Temp Vacuum      Pressure                  Plant Humidity  Energy  \\\n",
       "0   29.95    NaN  1011.44#$&!$  Amrita Energy Systems    66.32  432.81   \n",
       "1   5.76r  40.07       1013.22  Amrita Energy Systems    62.99  494.67   \n",
       "2   29.44    NaN        1011.4  Amrita Energy Systems    61.78  442.32   \n",
       "3  32.83#  74.33       1011.44  Amrita Energy Systems    50.42  427.36   \n",
       "4   16.86  39.63       1004.47  Amrita Energy Systems     83.5  466.68   \n",
       "\n",
       "              TempDiff       PressureDiff           RHSquared  \\\n",
       "0               -43.47  938.0200000000001                 NaN   \n",
       "1               -34.31          973.15II@  3967.7401000000004   \n",
       "2               -34.89  947.0699999999999                 NaN   \n",
       "3                -41.5             937.11  2542.1764000000003   \n",
       "4  -22.770000000000003                NaN             6972.25   \n",
       "\n",
       "        Testing Type       Place  PowerPerFuel          TempVacuum  \n",
       "0  Development Phase  Coimbatore      0.196828            2198.929  \n",
       "1  Development Phase  Coimbatore      2.143255            230.8032  \n",
       "2  Development Phase  Coimbatore      0.233553           1893.8752  \n",
       "3  Development Phase  Coimbatore      0.175129  2440.2538999999997  \n",
       "4  Development Phase  Coimbatore      0.698454            668.1618  "
      ]
     },
     "execution_count": 4,
     "metadata": {},
     "output_type": "execute_result"
    }
   ],
   "source": [
    "#view the data\n",
    "data.head()"
   ]
  },
  {
   "cell_type": "markdown",
   "id": "8d13f5cc",
   "metadata": {},
   "source": [
    "## 3. Exploratory Data Analysis"
   ]
  },
  {
   "cell_type": "markdown",
   "id": "56c811b6",
   "metadata": {},
   "source": [
    "#### 3.1 shape of data"
   ]
  },
  {
   "cell_type": "code",
   "execution_count": 5,
   "id": "ded849c7",
   "metadata": {},
   "outputs": [
    {
     "data": {
      "text/plain": [
       "(19230, 13)"
      ]
     },
     "execution_count": 5,
     "metadata": {},
     "output_type": "execute_result"
    }
   ],
   "source": [
    "#shape of the data\n",
    "data.shape"
   ]
  },
  {
   "cell_type": "markdown",
   "id": "4afbbed5",
   "metadata": {},
   "source": [
    "#### 3.2 columns oof teh data"
   ]
  },
  {
   "cell_type": "code",
   "execution_count": 6,
   "id": "60f7e7df",
   "metadata": {},
   "outputs": [
    {
     "data": {
      "text/plain": [
       "Index(['Temp', 'Vacuum', 'Pressure', 'Plant', 'Humidity', 'Energy', 'TempDiff',\n",
       "       'PressureDiff', 'RHSquared', 'Testing Type', 'Place', 'PowerPerFuel',\n",
       "       'TempVacuum'],\n",
       "      dtype='object')"
      ]
     },
     "execution_count": 6,
     "metadata": {},
     "output_type": "execute_result"
    }
   ],
   "source": [
    "# print column names\n",
    "data.columns"
   ]
  },
  {
   "cell_type": "markdown",
   "id": "23a6812e",
   "metadata": {},
   "source": [
    "#### 3.3 duplicate values"
   ]
  },
  {
   "cell_type": "code",
   "execution_count": 7,
   "id": "340e1c92",
   "metadata": {},
   "outputs": [
    {
     "data": {
      "text/plain": [
       "12820"
      ]
     },
     "execution_count": 7,
     "metadata": {},
     "output_type": "execute_result"
    }
   ],
   "source": [
    "#check for duplicate values\n",
    "data.duplicated().sum()"
   ]
  },
  {
   "cell_type": "code",
   "execution_count": 8,
   "id": "266eb0ae",
   "metadata": {},
   "outputs": [],
   "source": [
    "#remove duplicate\n",
    "data = data.drop_duplicates()\n",
    "\n",
    "# Reset the index\n",
    "data = data.reset_index(drop=True)"
   ]
  },
  {
   "cell_type": "code",
   "execution_count": 9,
   "id": "f48ddbe9",
   "metadata": {},
   "outputs": [
    {
     "data": {
      "text/plain": [
       "(6410, 13)"
      ]
     },
     "execution_count": 9,
     "metadata": {},
     "output_type": "execute_result"
    }
   ],
   "source": [
    "data.shape"
   ]
  },
  {
   "cell_type": "markdown",
   "id": "c56364d0",
   "metadata": {},
   "source": [
    "#### 3.4 basic information"
   ]
  },
  {
   "cell_type": "code",
   "execution_count": 10,
   "id": "ad190865",
   "metadata": {},
   "outputs": [
    {
     "name": "stdout",
     "output_type": "stream",
     "text": [
      "<class 'pandas.core.frame.DataFrame'>\n",
      "RangeIndex: 6410 entries, 0 to 6409\n",
      "Data columns (total 13 columns):\n",
      " #   Column        Non-Null Count  Dtype  \n",
      "---  ------        --------------  -----  \n",
      " 0   Temp          5449 non-null   object \n",
      " 1   Vacuum        5449 non-null   object \n",
      " 2   Pressure      6410 non-null   object \n",
      " 3   Plant         5449 non-null   object \n",
      " 4   Humidity      6410 non-null   object \n",
      " 5   Energy        6410 non-null   float64\n",
      " 6   TempDiff      6410 non-null   object \n",
      " 7   PressureDiff  5449 non-null   object \n",
      " 8   RHSquared     5449 non-null   object \n",
      " 9   Testing Type  6410 non-null   object \n",
      " 10  Place         6410 non-null   object \n",
      " 11  PowerPerFuel  5449 non-null   float64\n",
      " 12  TempVacuum    5449 non-null   object \n",
      "dtypes: float64(2), object(11)\n",
      "memory usage: 651.1+ KB\n"
     ]
    }
   ],
   "source": [
    "#check for baisc information\n",
    "data.info()"
   ]
  },
  {
   "cell_type": "markdown",
   "id": "d3cb6b21",
   "metadata": {},
   "source": [
    "#### 3.5 statistical information"
   ]
  },
  {
   "cell_type": "code",
   "execution_count": 11,
   "id": "32d66177",
   "metadata": {},
   "outputs": [
    {
     "data": {
      "text/html": [
       "<div>\n",
       "<style scoped>\n",
       "    .dataframe tbody tr th:only-of-type {\n",
       "        vertical-align: middle;\n",
       "    }\n",
       "\n",
       "    .dataframe tbody tr th {\n",
       "        vertical-align: top;\n",
       "    }\n",
       "\n",
       "    .dataframe thead th {\n",
       "        text-align: right;\n",
       "    }\n",
       "</style>\n",
       "<table border=\"1\" class=\"dataframe\">\n",
       "  <thead>\n",
       "    <tr style=\"text-align: right;\">\n",
       "      <th></th>\n",
       "      <th>Energy</th>\n",
       "      <th>PowerPerFuel</th>\n",
       "    </tr>\n",
       "  </thead>\n",
       "  <tbody>\n",
       "    <tr>\n",
       "      <th>count</th>\n",
       "      <td>6410.000000</td>\n",
       "      <td>5449.000000</td>\n",
       "    </tr>\n",
       "    <tr>\n",
       "      <th>mean</th>\n",
       "      <td>454.363276</td>\n",
       "      <td>0.618519</td>\n",
       "    </tr>\n",
       "    <tr>\n",
       "      <th>std</th>\n",
       "      <td>17.060129</td>\n",
       "      <td>0.507530</td>\n",
       "    </tr>\n",
       "    <tr>\n",
       "      <th>min</th>\n",
       "      <td>420.260000</td>\n",
       "      <td>0.158781</td>\n",
       "    </tr>\n",
       "    <tr>\n",
       "      <th>25%</th>\n",
       "      <td>439.832500</td>\n",
       "      <td>0.261322</td>\n",
       "    </tr>\n",
       "    <tr>\n",
       "      <th>50%</th>\n",
       "      <td>451.440000</td>\n",
       "      <td>0.403173</td>\n",
       "    </tr>\n",
       "    <tr>\n",
       "      <th>75%</th>\n",
       "      <td>468.270000</td>\n",
       "      <td>0.822638</td>\n",
       "    </tr>\n",
       "    <tr>\n",
       "      <th>max</th>\n",
       "      <td>495.760000</td>\n",
       "      <td>6.875244</td>\n",
       "    </tr>\n",
       "  </tbody>\n",
       "</table>\n",
       "</div>"
      ],
      "text/plain": [
       "            Energy  PowerPerFuel\n",
       "count  6410.000000   5449.000000\n",
       "mean    454.363276      0.618519\n",
       "std      17.060129      0.507530\n",
       "min     420.260000      0.158781\n",
       "25%     439.832500      0.261322\n",
       "50%     451.440000      0.403173\n",
       "75%     468.270000      0.822638\n",
       "max     495.760000      6.875244"
      ]
     },
     "execution_count": 11,
     "metadata": {},
     "output_type": "execute_result"
    }
   ],
   "source": [
    "# check for statistical information\n",
    "data.describe()"
   ]
  },
  {
   "cell_type": "markdown",
   "id": "e6df60bb",
   "metadata": {},
   "source": [
    "#### 3.6 Null Values"
   ]
  },
  {
   "cell_type": "code",
   "execution_count": 12,
   "id": "53662dd2",
   "metadata": {},
   "outputs": [
    {
     "data": {
      "text/plain": [
       "Temp            961\n",
       "Vacuum          961\n",
       "Pressure          0\n",
       "Plant           961\n",
       "Humidity          0\n",
       "Energy            0\n",
       "TempDiff          0\n",
       "PressureDiff    961\n",
       "RHSquared       961\n",
       "Testing Type      0\n",
       "Place             0\n",
       "PowerPerFuel    961\n",
       "TempVacuum      961\n",
       "dtype: int64"
      ]
     },
     "execution_count": 12,
     "metadata": {},
     "output_type": "execute_result"
    }
   ],
   "source": [
    "#check for null values\n",
    "data.isnull().sum()"
   ]
  },
  {
   "cell_type": "markdown",
   "id": "8d5d3bfa",
   "metadata": {},
   "source": [
    "#### 3.7 Unique values"
   ]
  },
  {
   "cell_type": "code",
   "execution_count": 13,
   "id": "ce4ee94e",
   "metadata": {},
   "outputs": [
    {
     "data": {
      "text/plain": [
       "Temp            2867\n",
       "Vacuum          1140\n",
       "Pressure        2758\n",
       "Plant              1\n",
       "Humidity        4186\n",
       "Energy          3910\n",
       "TempDiff        4339\n",
       "PressureDiff    4261\n",
       "RHSquared       3767\n",
       "Testing Type       1\n",
       "Place              1\n",
       "PowerPerFuel    5436\n",
       "TempVacuum      5388\n",
       "dtype: int64"
      ]
     },
     "execution_count": 13,
     "metadata": {},
     "output_type": "execute_result"
    }
   ],
   "source": [
    "#check for number of unique values in each column\n",
    "data.nunique()"
   ]
  },
  {
   "cell_type": "markdown",
   "id": "67e7a79a",
   "metadata": {},
   "source": [
    "plant, Testing type and Place have only one unique value.. this feature will not be useful for our model. hence, we can remove them while preprocessing"
   ]
  },
  {
   "cell_type": "code",
   "execution_count": 14,
   "id": "5256ecb2",
   "metadata": {},
   "outputs": [
    {
     "data": {
      "text/plain": [
       "13.78        12\n",
       "26.45         8\n",
       "11.02         7\n",
       "8.51          7\n",
       "16.0          7\n",
       "             ..\n",
       "12.69         1\n",
       "24.15easi     1\n",
       "20.24         1\n",
       "5.37          1\n",
       "12.26es       1\n",
       "Name: Temp, Length: 2867, dtype: int64"
      ]
     },
     "execution_count": 14,
     "metadata": {},
     "output_type": "execute_result"
    }
   ],
   "source": [
    "data[\"Temp\"].value_counts()"
   ]
  },
  {
   "cell_type": "code",
   "execution_count": 15,
   "id": "e8f2459b",
   "metadata": {},
   "outputs": [
    {
     "data": {
      "text/plain": [
       "70.32         29\n",
       "41.17         29\n",
       "69.13         27\n",
       "66.54         26\n",
       "51.43         26\n",
       "              ..\n",
       "71.14oie       1\n",
       "35.77i         1\n",
       "77.17siis      1\n",
       "35.76nisss     1\n",
       "70.32niooi     1\n",
       "Name: Vacuum, Length: 1140, dtype: int64"
      ]
     },
     "execution_count": 15,
     "metadata": {},
     "output_type": "execute_result"
    }
   ],
   "source": [
    "data[\"Vacuum\"].value_counts()"
   ]
  },
  {
   "cell_type": "code",
   "execution_count": 16,
   "id": "b5010f2b",
   "metadata": {},
   "outputs": [
    {
     "data": {
      "text/plain": [
       "1013.88      12\n",
       "1013.18      11\n",
       "1013.92      10\n",
       "1013.02      10\n",
       "1012.92      10\n",
       "             ..\n",
       "1025.87       1\n",
       "1012.33       1\n",
       "1011.5!$&     1\n",
       "1026.15       1\n",
       "1014.87       1\n",
       "Name: Pressure, Length: 2758, dtype: int64"
      ]
     },
     "execution_count": 16,
     "metadata": {},
     "output_type": "execute_result"
    }
   ],
   "source": [
    "data[\"Pressure\"].value_counts()"
   ]
  },
  {
   "cell_type": "code",
   "execution_count": 17,
   "id": "780b28cd",
   "metadata": {},
   "outputs": [
    {
     "data": {
      "text/plain": [
       "100.09    19\n",
       "82.8       8\n",
       "79.23      7\n",
       "71.57      7\n",
       "84.41      6\n",
       "          ..\n",
       "70.47      1\n",
       "76.17      1\n",
       "93.62      1\n",
       "82.94      1\n",
       "97.7       1\n",
       "Name: Humidity, Length: 4186, dtype: int64"
      ]
     },
     "execution_count": 17,
     "metadata": {},
     "output_type": "execute_result"
    }
   ],
   "source": [
    "data[\"Humidity\"].value_counts()"
   ]
  },
  {
   "cell_type": "code",
   "execution_count": 18,
   "id": "308fb220",
   "metadata": {},
   "outputs": [
    {
     "data": {
      "text/plain": [
       "440.26    7\n",
       "447.06    7\n",
       "436.37    6\n",
       "465.89    6\n",
       "464.70    6\n",
       "         ..\n",
       "478.47    1\n",
       "449.47    1\n",
       "457.85    1\n",
       "467.34    1\n",
       "474.67    1\n",
       "Name: Energy, Length: 3910, dtype: int64"
      ]
     },
     "execution_count": 18,
     "metadata": {},
     "output_type": "execute_result"
    }
   ],
   "source": [
    "data[\"Energy\"].value_counts()"
   ]
  },
  {
   "cell_type": "code",
   "execution_count": 19,
   "id": "54d5f564",
   "metadata": {},
   "outputs": [
    {
     "data": {
      "text/plain": [
       "-31.29                 8\n",
       "-29.42                 7\n",
       "-37.75                 6\n",
       "-37.69                 6\n",
       "-35.42                 6\n",
       "                      ..\n",
       "-39.41                 1\n",
       "-25.85                 1\n",
       "-47.580000000000005    1\n",
       "-20.560000000000002    1\n",
       "-28.919999999999995    1\n",
       "Name: TempDiff, Length: 4339, dtype: int64"
      ]
     },
     "execution_count": 19,
     "metadata": {},
     "output_type": "execute_result"
    }
   ],
   "source": [
    "data[\"TempDiff\"].value_counts()"
   ]
  },
  {
   "cell_type": "code",
   "execution_count": 20,
   "id": "655abbd3",
   "metadata": {},
   "outputs": [
    {
     "data": {
      "text/plain": [
       "979.98                   6\n",
       "958.5                    5\n",
       "938.75                   5\n",
       "975.6                    5\n",
       "936.63                   5\n",
       "                        ..\n",
       "975.22                   1\n",
       "962.15                   1\n",
       "966.5400000000001I$@!    1\n",
       "955.5500000000001I       1\n",
       "977.5400000000001        1\n",
       "Name: PressureDiff, Length: 4261, dtype: int64"
      ]
     },
     "execution_count": 20,
     "metadata": {},
     "output_type": "execute_result"
    }
   ],
   "source": [
    "data[\"PressureDiff\"].value_counts()"
   ]
  },
  {
   "cell_type": "code",
   "execution_count": 21,
   "id": "1defc43d",
   "metadata": {},
   "outputs": [
    {
     "data": {
      "text/plain": [
       "10018.008100000001    15\n",
       "7264.152900000001      6\n",
       "8074.8196              6\n",
       "6855.839999999999      6\n",
       "6748.622500000001      5\n",
       "                      ..\n",
       "989.1025               1\n",
       "5830.8496              1\n",
       "2955.0096              1\n",
       "5389.0280999999995     1\n",
       "9545.29                1\n",
       "Name: RHSquared, Length: 3767, dtype: int64"
      ]
     },
     "execution_count": 21,
     "metadata": {},
     "output_type": "execute_result"
    }
   ],
   "source": [
    "data[\"RHSquared\"].value_counts()"
   ]
  },
  {
   "cell_type": "code",
   "execution_count": 22,
   "id": "a5e4ab00",
   "metadata": {},
   "outputs": [
    {
     "data": {
      "text/plain": [
       "1.855189    2\n",
       "0.204992    2\n",
       "0.228042    2\n",
       "1.181638    2\n",
       "1.968016    2\n",
       "           ..\n",
       "0.517005    1\n",
       "0.237536    1\n",
       "0.593863    1\n",
       "0.193412    1\n",
       "0.991537    1\n",
       "Name: PowerPerFuel, Length: 5436, dtype: int64"
      ]
     },
     "execution_count": 22,
     "metadata": {},
     "output_type": "execute_result"
    }
   ],
   "source": [
    "data[\"PowerPerFuel\"].value_counts()"
   ]
  },
  {
   "cell_type": "code",
   "execution_count": 23,
   "id": "915dbfc5",
   "metadata": {},
   "outputs": [
    {
     "data": {
      "text/plain": [
       "1115.4385                 5\n",
       "389.988                   4\n",
       "576.2474                  3\n",
       "417.8858                  3\n",
       "1173.1664                 3\n",
       "                         ..\n",
       "1307.8536000000001eiIN    1\n",
       "692.1826000000001         1\n",
       "1915.5923es               1\n",
       "1958.2084                 1\n",
       "476.4625                  1\n",
       "Name: TempVacuum, Length: 5388, dtype: int64"
      ]
     },
     "execution_count": 23,
     "metadata": {},
     "output_type": "execute_result"
    }
   ],
   "source": [
    "data[\"TempVacuum\"].value_counts()"
   ]
  },
  {
   "cell_type": "markdown",
   "id": "f516e59d",
   "metadata": {},
   "source": [
    "#### visualizing unique values"
   ]
  },
  {
   "cell_type": "code",
   "execution_count": 69,
   "id": "61826660",
   "metadata": {},
   "outputs": [
    {
     "data": {
      "image/png": "[encoded data removed]",
      "text/plain": [
       "<Figure size 864x864 with 9 Axes>"
      ]
     },
     "metadata": {
      "needs_background": "light"
     },
     "output_type": "display_data"
    }
   ],
   "source": [
    "attributes = [\"TempVacuum\", \"PowerPerFuel\", \"RHSquared\", \"PressureDiff\", \"TempDiff\", \"Humidity\", \"Pressure\", \"Vacuum\", \"Temp\"]\n",
    "\n",
    "fig, axes = plt.subplots(nrows=3, ncols=3, figsize=(12, 12))\n",
    "\n",
    "for ax, attr in zip(axes.flatten(), attributes):\n",
    "    attr_counts = data[attr].value_counts()\n",
    "    ax.bar(attr_counts.index, attr_counts.values)\n",
    "    ax.set_xlabel(attr)\n",
    "    ax.set_ylabel(\"Count\")\n",
    "\n",
    "plt.tight_layout()\n",
    "plt.show()\n"
   ]
  },
  {
   "cell_type": "markdown",
   "id": "d11e2a03",
   "metadata": {},
   "source": [
    "## 4. Preprocessing"
   ]
  },
  {
   "cell_type": "code",
   "execution_count": 26,
   "id": "0e1c70f5",
   "metadata": {},
   "outputs": [
    {
     "data": {
      "text/plain": [
       "Temp             object\n",
       "Vacuum           object\n",
       "Pressure         object\n",
       "Plant            object\n",
       "Humidity         object\n",
       "Energy          float64\n",
       "TempDiff         object\n",
       "PressureDiff     object\n",
       "RHSquared        object\n",
       "Testing Type     object\n",
       "Place            object\n",
       "PowerPerFuel    float64\n",
       "TempVacuum       object\n",
       "dtype: object"
      ]
     },
     "execution_count": 26,
     "metadata": {},
     "output_type": "execute_result"
    }
   ],
   "source": [
    "#check for data type of each feature\n",
    "data.dtypes"
   ]
  },
  {
   "cell_type": "markdown",
   "id": "dfdea7c0",
   "metadata": {},
   "source": [
    "### 4.1 Replacing alphanumeric values with numeric values"
   ]
  },
  {
   "cell_type": "markdown",
   "id": "c16c3fe4",
   "metadata": {},
   "source": [
    "as we can see the data, there rea lots of entires where we have symbols with the dta. whcih is totally unneceassary. hence we need to remove thosee unwnated synmbols"
   ]
  },
  {
   "cell_type": "markdown",
   "id": "e787cf47",
   "metadata": {},
   "source": [
    "library : import re"
   ]
  },
  {
   "cell_type": "code",
   "execution_count": 27,
   "id": "40940aea",
   "metadata": {},
   "outputs": [],
   "source": [
    "data[\"Temp\"] = data[\"Temp\"].apply(lambda x : re.sub(r'[^0-9.]+','',str(x)))\n",
    "data[\"Vacuum\"] = data[\"Vacuum\"].apply(lambda x : re.sub(r'[^0-9.]+','',str(x)))\n",
    "data[\"Pressure\"] = data[\"Pressure\"].apply(lambda x : re.sub(r'[^0-9.]+','',str(x)))\n",
    "data[\"Humidity\"] = data[\"Humidity\"].apply(lambda x : re.sub(r'[^0-9.]+','',str(x)))\n",
    "data[\"PressureDiff\"] = data[\"PressureDiff\"].apply(lambda x : re.sub(r'[^0-9.]+','',str(x)))\n",
    "data[\"RHSquared\"] = data[\"RHSquared\"].apply(lambda x : re.sub(r'[^0-9.]+','',str(x)))\n",
    "data[\"TempVacuum\"] = data[\"TempVacuum\"].apply(lambda x : re.sub(r'[^0-9.]+','',str(x)))\n",
    "\n",
    "data['TempDiff'] = data['TempDiff'].apply(lambda x: re.sub(r'[^-0-9.]', '', x))"
   ]
  },
  {
   "cell_type": "code",
   "execution_count": 28,
   "id": "72081752",
   "metadata": {},
   "outputs": [
    {
     "data": {
      "text/html": [
       "<div>\n",
       "<style scoped>\n",
       "    .dataframe tbody tr th:only-of-type {\n",
       "        vertical-align: middle;\n",
       "    }\n",
       "\n",
       "    .dataframe tbody tr th {\n",
       "        vertical-align: top;\n",
       "    }\n",
       "\n",
       "    .dataframe thead th {\n",
       "        text-align: right;\n",
       "    }\n",
       "</style>\n",
       "<table border=\"1\" class=\"dataframe\">\n",
       "  <thead>\n",
       "    <tr style=\"text-align: right;\">\n",
       "      <th></th>\n",
       "      <th>Temp</th>\n",
       "      <th>Vacuum</th>\n",
       "      <th>Pressure</th>\n",
       "      <th>Plant</th>\n",
       "      <th>Humidity</th>\n",
       "      <th>Energy</th>\n",
       "      <th>TempDiff</th>\n",
       "      <th>PressureDiff</th>\n",
       "      <th>RHSquared</th>\n",
       "      <th>Testing Type</th>\n",
       "      <th>Place</th>\n",
       "      <th>PowerPerFuel</th>\n",
       "      <th>TempVacuum</th>\n",
       "    </tr>\n",
       "  </thead>\n",
       "  <tbody>\n",
       "    <tr>\n",
       "      <th>0</th>\n",
       "      <td>29.95</td>\n",
       "      <td></td>\n",
       "      <td>1011.44</td>\n",
       "      <td>Amrita Energy Systems</td>\n",
       "      <td>66.32</td>\n",
       "      <td>432.81</td>\n",
       "      <td>-43.47</td>\n",
       "      <td>938.0200000000001</td>\n",
       "      <td></td>\n",
       "      <td>Development Phase</td>\n",
       "      <td>Coimbatore</td>\n",
       "      <td>0.196828</td>\n",
       "      <td>2198.929</td>\n",
       "    </tr>\n",
       "    <tr>\n",
       "      <th>1</th>\n",
       "      <td>5.76</td>\n",
       "      <td>40.07</td>\n",
       "      <td>1013.22</td>\n",
       "      <td>Amrita Energy Systems</td>\n",
       "      <td>62.99</td>\n",
       "      <td>494.67</td>\n",
       "      <td>-34.31</td>\n",
       "      <td>973.15</td>\n",
       "      <td>3967.7401000000004</td>\n",
       "      <td>Development Phase</td>\n",
       "      <td>Coimbatore</td>\n",
       "      <td>2.143255</td>\n",
       "      <td>230.8032</td>\n",
       "    </tr>\n",
       "    <tr>\n",
       "      <th>2</th>\n",
       "      <td>29.44</td>\n",
       "      <td></td>\n",
       "      <td>1011.4</td>\n",
       "      <td>Amrita Energy Systems</td>\n",
       "      <td>61.78</td>\n",
       "      <td>442.32</td>\n",
       "      <td>-34.89</td>\n",
       "      <td>947.0699999999999</td>\n",
       "      <td></td>\n",
       "      <td>Development Phase</td>\n",
       "      <td>Coimbatore</td>\n",
       "      <td>0.233553</td>\n",
       "      <td>1893.8752</td>\n",
       "    </tr>\n",
       "    <tr>\n",
       "      <th>3</th>\n",
       "      <td>32.83</td>\n",
       "      <td>74.33</td>\n",
       "      <td>1011.44</td>\n",
       "      <td>Amrita Energy Systems</td>\n",
       "      <td>50.42</td>\n",
       "      <td>427.36</td>\n",
       "      <td>-41.5</td>\n",
       "      <td>937.11</td>\n",
       "      <td>2542.1764000000003</td>\n",
       "      <td>Development Phase</td>\n",
       "      <td>Coimbatore</td>\n",
       "      <td>0.175129</td>\n",
       "      <td>2440.2538999999997</td>\n",
       "    </tr>\n",
       "    <tr>\n",
       "      <th>4</th>\n",
       "      <td>16.86</td>\n",
       "      <td>39.63</td>\n",
       "      <td>1004.47</td>\n",
       "      <td>Amrita Energy Systems</td>\n",
       "      <td>83.5</td>\n",
       "      <td>466.68</td>\n",
       "      <td>-22.770000000000003</td>\n",
       "      <td></td>\n",
       "      <td>6972.25</td>\n",
       "      <td>Development Phase</td>\n",
       "      <td>Coimbatore</td>\n",
       "      <td>0.698454</td>\n",
       "      <td>668.1618</td>\n",
       "    </tr>\n",
       "  </tbody>\n",
       "</table>\n",
       "</div>"
      ],
      "text/plain": [
       "    Temp Vacuum Pressure                  Plant Humidity  Energy  \\\n",
       "0  29.95         1011.44  Amrita Energy Systems    66.32  432.81   \n",
       "1   5.76  40.07  1013.22  Amrita Energy Systems    62.99  494.67   \n",
       "2  29.44          1011.4  Amrita Energy Systems    61.78  442.32   \n",
       "3  32.83  74.33  1011.44  Amrita Energy Systems    50.42  427.36   \n",
       "4  16.86  39.63  1004.47  Amrita Energy Systems     83.5  466.68   \n",
       "\n",
       "              TempDiff       PressureDiff           RHSquared  \\\n",
       "0               -43.47  938.0200000000001                       \n",
       "1               -34.31             973.15  3967.7401000000004   \n",
       "2               -34.89  947.0699999999999                       \n",
       "3                -41.5             937.11  2542.1764000000003   \n",
       "4  -22.770000000000003                                6972.25   \n",
       "\n",
       "        Testing Type       Place  PowerPerFuel          TempVacuum  \n",
       "0  Development Phase  Coimbatore      0.196828            2198.929  \n",
       "1  Development Phase  Coimbatore      2.143255            230.8032  \n",
       "2  Development Phase  Coimbatore      0.233553           1893.8752  \n",
       "3  Development Phase  Coimbatore      0.175129  2440.2538999999997  \n",
       "4  Development Phase  Coimbatore      0.698454            668.1618  "
      ]
     },
     "execution_count": 28,
     "metadata": {},
     "output_type": "execute_result"
    }
   ],
   "source": [
    "#view the data\n",
    "data.head()"
   ]
  },
  {
   "cell_type": "markdown",
   "id": "eec6610d",
   "metadata": {},
   "source": [
    "### 4.2 Drop columns"
   ]
  },
  {
   "cell_type": "code",
   "execution_count": 30,
   "id": "83397ef6",
   "metadata": {},
   "outputs": [],
   "source": [
    "#remove unnecessary columns\n",
    "data = data.drop([\"Plant\",\"Testing Type\",\"Place\"],axis = 1)"
   ]
  },
  {
   "cell_type": "code",
   "execution_count": 31,
   "id": "f444d2e4",
   "metadata": {},
   "outputs": [
    {
     "data": {
      "text/plain": [
       "(6410, 10)"
      ]
     },
     "execution_count": 31,
     "metadata": {},
     "output_type": "execute_result"
    }
   ],
   "source": [
    "#check for data shape after removing columns\n",
    "data.shape"
   ]
  },
  {
   "cell_type": "code",
   "execution_count": 32,
   "id": "0e20218b",
   "metadata": {},
   "outputs": [
    {
     "data": {
      "text/html": [
       "<div>\n",
       "<style scoped>\n",
       "    .dataframe tbody tr th:only-of-type {\n",
       "        vertical-align: middle;\n",
       "    }\n",
       "\n",
       "    .dataframe tbody tr th {\n",
       "        vertical-align: top;\n",
       "    }\n",
       "\n",
       "    .dataframe thead th {\n",
       "        text-align: right;\n",
       "    }\n",
       "</style>\n",
       "<table border=\"1\" class=\"dataframe\">\n",
       "  <thead>\n",
       "    <tr style=\"text-align: right;\">\n",
       "      <th></th>\n",
       "      <th>Temp</th>\n",
       "      <th>Vacuum</th>\n",
       "      <th>Pressure</th>\n",
       "      <th>Humidity</th>\n",
       "      <th>Energy</th>\n",
       "      <th>TempDiff</th>\n",
       "      <th>PressureDiff</th>\n",
       "      <th>RHSquared</th>\n",
       "      <th>PowerPerFuel</th>\n",
       "      <th>TempVacuum</th>\n",
       "    </tr>\n",
       "  </thead>\n",
       "  <tbody>\n",
       "    <tr>\n",
       "      <th>0</th>\n",
       "      <td>29.95</td>\n",
       "      <td></td>\n",
       "      <td>1011.44</td>\n",
       "      <td>66.32</td>\n",
       "      <td>432.81</td>\n",
       "      <td>-43.47</td>\n",
       "      <td>938.0200000000001</td>\n",
       "      <td></td>\n",
       "      <td>0.196828</td>\n",
       "      <td>2198.929</td>\n",
       "    </tr>\n",
       "    <tr>\n",
       "      <th>1</th>\n",
       "      <td>5.76</td>\n",
       "      <td>40.07</td>\n",
       "      <td>1013.22</td>\n",
       "      <td>62.99</td>\n",
       "      <td>494.67</td>\n",
       "      <td>-34.31</td>\n",
       "      <td>973.15</td>\n",
       "      <td>3967.7401000000004</td>\n",
       "      <td>2.143255</td>\n",
       "      <td>230.8032</td>\n",
       "    </tr>\n",
       "    <tr>\n",
       "      <th>2</th>\n",
       "      <td>29.44</td>\n",
       "      <td></td>\n",
       "      <td>1011.4</td>\n",
       "      <td>61.78</td>\n",
       "      <td>442.32</td>\n",
       "      <td>-34.89</td>\n",
       "      <td>947.0699999999999</td>\n",
       "      <td></td>\n",
       "      <td>0.233553</td>\n",
       "      <td>1893.8752</td>\n",
       "    </tr>\n",
       "    <tr>\n",
       "      <th>3</th>\n",
       "      <td>32.83</td>\n",
       "      <td>74.33</td>\n",
       "      <td>1011.44</td>\n",
       "      <td>50.42</td>\n",
       "      <td>427.36</td>\n",
       "      <td>-41.5</td>\n",
       "      <td>937.11</td>\n",
       "      <td>2542.1764000000003</td>\n",
       "      <td>0.175129</td>\n",
       "      <td>2440.2538999999997</td>\n",
       "    </tr>\n",
       "    <tr>\n",
       "      <th>4</th>\n",
       "      <td>16.86</td>\n",
       "      <td>39.63</td>\n",
       "      <td>1004.47</td>\n",
       "      <td>83.5</td>\n",
       "      <td>466.68</td>\n",
       "      <td>-22.770000000000003</td>\n",
       "      <td></td>\n",
       "      <td>6972.25</td>\n",
       "      <td>0.698454</td>\n",
       "      <td>668.1618</td>\n",
       "    </tr>\n",
       "  </tbody>\n",
       "</table>\n",
       "</div>"
      ],
      "text/plain": [
       "    Temp Vacuum Pressure Humidity  Energy             TempDiff  \\\n",
       "0  29.95         1011.44    66.32  432.81               -43.47   \n",
       "1   5.76  40.07  1013.22    62.99  494.67               -34.31   \n",
       "2  29.44          1011.4    61.78  442.32               -34.89   \n",
       "3  32.83  74.33  1011.44    50.42  427.36                -41.5   \n",
       "4  16.86  39.63  1004.47     83.5  466.68  -22.770000000000003   \n",
       "\n",
       "        PressureDiff           RHSquared  PowerPerFuel          TempVacuum  \n",
       "0  938.0200000000001                          0.196828            2198.929  \n",
       "1             973.15  3967.7401000000004      2.143255            230.8032  \n",
       "2  947.0699999999999                          0.233553           1893.8752  \n",
       "3             937.11  2542.1764000000003      0.175129  2440.2538999999997  \n",
       "4                                6972.25      0.698454            668.1618  "
      ]
     },
     "execution_count": 32,
     "metadata": {},
     "output_type": "execute_result"
    }
   ],
   "source": [
    "#view data\n",
    "data.head()"
   ]
  },
  {
   "cell_type": "markdown",
   "id": "141bc2ac",
   "metadata": {},
   "source": [
    "### 4.3 converting object type features into float type"
   ]
  },
  {
   "cell_type": "code",
   "execution_count": 33,
   "id": "7892b8b1",
   "metadata": {},
   "outputs": [
    {
     "data": {
      "text/plain": [
       "Temp             object\n",
       "Vacuum           object\n",
       "Pressure         object\n",
       "Humidity         object\n",
       "Energy          float64\n",
       "TempDiff         object\n",
       "PressureDiff     object\n",
       "RHSquared        object\n",
       "PowerPerFuel    float64\n",
       "TempVacuum       object\n",
       "dtype: object"
      ]
     },
     "execution_count": 33,
     "metadata": {},
     "output_type": "execute_result"
    }
   ],
   "source": [
    "#check for data type of each feature\n",
    "data.dtypes"
   ]
  },
  {
   "cell_type": "code",
   "execution_count": 34,
   "id": "ae7cfe59",
   "metadata": {},
   "outputs": [],
   "source": [
    "# Convert the  columns from string to float\n",
    "\n",
    "data['Temp'] = data['Temp'].apply(lambda x: float(x) if x else float('nan'))\n",
    "data['Pressure'] = data['Pressure'].apply(lambda x: float(x) if x else float('nan'))\n",
    "data['Vacuum'] = data['Vacuum'].apply(lambda x: float(x) if x else float('nan'))\n",
    "data['Humidity'] = data['Humidity'].apply(lambda x: float(x) if x else float('nan'))\n",
    "data['TempDiff'] = data['TempDiff'].apply(lambda x: float(x) if x else float('nan'))\n",
    "data['RHSquared'] = data['RHSquared'].apply(lambda x: float(x) if x else float('nan'))\n",
    "data['PressureDiff'] = data['PressureDiff'].apply(lambda x: float(x) if x else float('nan'))\n",
    "data['TempVacuum'] = data['TempDiff'].apply(lambda x: float(x) if x else float('nan'))"
   ]
  },
  {
   "cell_type": "code",
   "execution_count": 35,
   "id": "87a46252",
   "metadata": {},
   "outputs": [
    {
     "data": {
      "text/plain": [
       "Temp            float64\n",
       "Vacuum          float64\n",
       "Pressure        float64\n",
       "Humidity        float64\n",
       "Energy          float64\n",
       "TempDiff        float64\n",
       "PressureDiff    float64\n",
       "RHSquared       float64\n",
       "PowerPerFuel    float64\n",
       "TempVacuum      float64\n",
       "dtype: object"
      ]
     },
     "execution_count": 35,
     "metadata": {},
     "output_type": "execute_result"
    }
   ],
   "source": [
    "#check for data type of each feature after conversion\n",
    "data.dtypes"
   ]
  },
  {
   "cell_type": "markdown",
   "id": "87fc6e14",
   "metadata": {},
   "source": [
    "### 4.4 Handle Null Values"
   ]
  },
  {
   "cell_type": "code",
   "execution_count": 36,
   "id": "aefc52c0",
   "metadata": {},
   "outputs": [],
   "source": [
    "#drop null values\n",
    "data_new = data.dropna()"
   ]
  },
  {
   "cell_type": "code",
   "execution_count": 37,
   "id": "83fe570b",
   "metadata": {},
   "outputs": [
    {
     "data": {
      "text/plain": [
       "(2857, 10)"
      ]
     },
     "execution_count": 37,
     "metadata": {},
     "output_type": "execute_result"
    }
   ],
   "source": [
    "#check the shape\n",
    "data_new.shape"
   ]
  },
  {
   "cell_type": "markdown",
   "id": "f1e12365",
   "metadata": {},
   "source": [
    "### 4.5 Correlation"
   ]
  },
  {
   "cell_type": "code",
   "execution_count": 38,
   "id": "03a44d09",
   "metadata": {},
   "outputs": [
    {
     "data": {
      "text/html": [
       "<div>\n",
       "<style scoped>\n",
       "    .dataframe tbody tr th:only-of-type {\n",
       "        vertical-align: middle;\n",
       "    }\n",
       "\n",
       "    .dataframe tbody tr th {\n",
       "        vertical-align: top;\n",
       "    }\n",
       "\n",
       "    .dataframe thead th {\n",
       "        text-align: right;\n",
       "    }\n",
       "</style>\n",
       "<table border=\"1\" class=\"dataframe\">\n",
       "  <thead>\n",
       "    <tr style=\"text-align: right;\">\n",
       "      <th></th>\n",
       "      <th>Temp</th>\n",
       "      <th>Vacuum</th>\n",
       "      <th>Pressure</th>\n",
       "      <th>Humidity</th>\n",
       "      <th>Energy</th>\n",
       "      <th>TempDiff</th>\n",
       "      <th>PressureDiff</th>\n",
       "      <th>RHSquared</th>\n",
       "      <th>PowerPerFuel</th>\n",
       "      <th>TempVacuum</th>\n",
       "    </tr>\n",
       "  </thead>\n",
       "  <tbody>\n",
       "    <tr>\n",
       "      <th>Temp</th>\n",
       "      <td>1.000000</td>\n",
       "      <td>0.843694</td>\n",
       "      <td>-0.500807</td>\n",
       "      <td>-0.553799</td>\n",
       "      <td>-0.950576</td>\n",
       "      <td>-0.425443</td>\n",
       "      <td>-0.847792</td>\n",
       "      <td>-0.551574</td>\n",
       "      <td>-0.879417</td>\n",
       "      <td>-0.425443</td>\n",
       "    </tr>\n",
       "    <tr>\n",
       "      <th>Vacuum</th>\n",
       "      <td>0.843694</td>\n",
       "      <td>1.000000</td>\n",
       "      <td>-0.423846</td>\n",
       "      <td>-0.312091</td>\n",
       "      <td>-0.868891</td>\n",
       "      <td>-0.844762</td>\n",
       "      <td>-0.941916</td>\n",
       "      <td>-0.313583</td>\n",
       "      <td>-0.744699</td>\n",
       "      <td>-0.844762</td>\n",
       "    </tr>\n",
       "    <tr>\n",
       "      <th>Pressure</th>\n",
       "      <td>-0.500807</td>\n",
       "      <td>-0.423846</td>\n",
       "      <td>1.000000</td>\n",
       "      <td>0.098586</td>\n",
       "      <td>0.510863</td>\n",
       "      <td>0.215287</td>\n",
       "      <td>0.703417</td>\n",
       "      <td>0.090666</td>\n",
       "      <td>0.392314</td>\n",
       "      <td>0.215287</td>\n",
       "    </tr>\n",
       "    <tr>\n",
       "      <th>Humidity</th>\n",
       "      <td>-0.553799</td>\n",
       "      <td>-0.312091</td>\n",
       "      <td>0.098586</td>\n",
       "      <td>1.000000</td>\n",
       "      <td>0.400779</td>\n",
       "      <td>-0.025936</td>\n",
       "      <td>0.281471</td>\n",
       "      <td>0.992591</td>\n",
       "      <td>0.401499</td>\n",
       "      <td>-0.025936</td>\n",
       "    </tr>\n",
       "    <tr>\n",
       "      <th>Energy</th>\n",
       "      <td>-0.950576</td>\n",
       "      <td>-0.868891</td>\n",
       "      <td>0.510863</td>\n",
       "      <td>0.400779</td>\n",
       "      <td>1.000000</td>\n",
       "      <td>0.517190</td>\n",
       "      <td>0.871294</td>\n",
       "      <td>0.401439</td>\n",
       "      <td>0.878874</td>\n",
       "      <td>0.517190</td>\n",
       "    </tr>\n",
       "    <tr>\n",
       "      <th>TempDiff</th>\n",
       "      <td>-0.425443</td>\n",
       "      <td>-0.844762</td>\n",
       "      <td>0.215287</td>\n",
       "      <td>-0.025936</td>\n",
       "      <td>0.517190</td>\n",
       "      <td>1.000000</td>\n",
       "      <td>0.742758</td>\n",
       "      <td>-0.021203</td>\n",
       "      <td>0.378761</td>\n",
       "      <td>1.000000</td>\n",
       "    </tr>\n",
       "    <tr>\n",
       "      <th>PressureDiff</th>\n",
       "      <td>-0.847792</td>\n",
       "      <td>-0.941916</td>\n",
       "      <td>0.703417</td>\n",
       "      <td>0.281471</td>\n",
       "      <td>0.871294</td>\n",
       "      <td>0.742758</td>\n",
       "      <td>1.000000</td>\n",
       "      <td>0.279705</td>\n",
       "      <td>0.729875</td>\n",
       "      <td>0.742758</td>\n",
       "    </tr>\n",
       "    <tr>\n",
       "      <th>RHSquared</th>\n",
       "      <td>-0.551574</td>\n",
       "      <td>-0.313583</td>\n",
       "      <td>0.090666</td>\n",
       "      <td>0.992591</td>\n",
       "      <td>0.401439</td>\n",
       "      <td>-0.021203</td>\n",
       "      <td>0.279705</td>\n",
       "      <td>1.000000</td>\n",
       "      <td>0.409154</td>\n",
       "      <td>-0.021203</td>\n",
       "    </tr>\n",
       "    <tr>\n",
       "      <th>PowerPerFuel</th>\n",
       "      <td>-0.879417</td>\n",
       "      <td>-0.744699</td>\n",
       "      <td>0.392314</td>\n",
       "      <td>0.401499</td>\n",
       "      <td>0.878874</td>\n",
       "      <td>0.378761</td>\n",
       "      <td>0.729875</td>\n",
       "      <td>0.409154</td>\n",
       "      <td>1.000000</td>\n",
       "      <td>0.378761</td>\n",
       "    </tr>\n",
       "    <tr>\n",
       "      <th>TempVacuum</th>\n",
       "      <td>-0.425443</td>\n",
       "      <td>-0.844762</td>\n",
       "      <td>0.215287</td>\n",
       "      <td>-0.025936</td>\n",
       "      <td>0.517190</td>\n",
       "      <td>1.000000</td>\n",
       "      <td>0.742758</td>\n",
       "      <td>-0.021203</td>\n",
       "      <td>0.378761</td>\n",
       "      <td>1.000000</td>\n",
       "    </tr>\n",
       "  </tbody>\n",
       "</table>\n",
       "</div>"
      ],
      "text/plain": [
       "                  Temp    Vacuum  Pressure  Humidity    Energy  TempDiff  \\\n",
       "Temp          1.000000  0.843694 -0.500807 -0.553799 -0.950576 -0.425443   \n",
       "Vacuum        0.843694  1.000000 -0.423846 -0.312091 -0.868891 -0.844762   \n",
       "Pressure     -0.500807 -0.423846  1.000000  0.098586  0.510863  0.215287   \n",
       "Humidity     -0.553799 -0.312091  0.098586  1.000000  0.400779 -0.025936   \n",
       "Energy       -0.950576 -0.868891  0.510863  0.400779  1.000000  0.517190   \n",
       "TempDiff     -0.425443 -0.844762  0.215287 -0.025936  0.517190  1.000000   \n",
       "PressureDiff -0.847792 -0.941916  0.703417  0.281471  0.871294  0.742758   \n",
       "RHSquared    -0.551574 -0.313583  0.090666  0.992591  0.401439 -0.021203   \n",
       "PowerPerFuel -0.879417 -0.744699  0.392314  0.401499  0.878874  0.378761   \n",
       "TempVacuum   -0.425443 -0.844762  0.215287 -0.025936  0.517190  1.000000   \n",
       "\n",
       "              PressureDiff  RHSquared  PowerPerFuel  TempVacuum  \n",
       "Temp             -0.847792  -0.551574     -0.879417   -0.425443  \n",
       "Vacuum           -0.941916  -0.313583     -0.744699   -0.844762  \n",
       "Pressure          0.703417   0.090666      0.392314    0.215287  \n",
       "Humidity          0.281471   0.992591      0.401499   -0.025936  \n",
       "Energy            0.871294   0.401439      0.878874    0.517190  \n",
       "TempDiff          0.742758  -0.021203      0.378761    1.000000  \n",
       "PressureDiff      1.000000   0.279705      0.729875    0.742758  \n",
       "RHSquared         0.279705   1.000000      0.409154   -0.021203  \n",
       "PowerPerFuel      0.729875   0.409154      1.000000    0.378761  \n",
       "TempVacuum        0.742758  -0.021203      0.378761    1.000000  "
      ]
     },
     "execution_count": 38,
     "metadata": {},
     "output_type": "execute_result"
    }
   ],
   "source": [
    "# Calculate the correlation matrix\n",
    "correlation_matrix = data_new.corr()\n",
    "correlation_matrix"
   ]
  },
  {
   "cell_type": "code",
   "execution_count": 39,
   "id": "93005fb8",
   "metadata": {},
   "outputs": [
    {
     "data": {
      "image/png": "[encoded data removed]",
      "text/plain": [
       "<Figure size 576x432 with 2 Axes>"
      ]
     },
     "metadata": {
      "needs_background": "light"
     },
     "output_type": "display_data"
    }
   ],
   "source": [
    "# Plot the correlation matrix using a heatmap\n",
    "plt.figure(figsize=(8, 6))\n",
    "sns.heatmap(correlation_matrix, annot=True, cmap='coolwarm')\n",
    "plt.title('Correlation Matrix')\n",
    "plt.show()"
   ]
  },
  {
   "cell_type": "markdown",
   "id": "87f2debd",
   "metadata": {},
   "source": [
    "## 5. Define X and y"
   ]
  },
  {
   "cell_type": "code",
   "execution_count": 40,
   "id": "1461e5e3",
   "metadata": {},
   "outputs": [],
   "source": [
    "X = data_new.drop(\"Energy\", axis = 1)\n",
    "y = data_new[\"Energy\"]"
   ]
  },
  {
   "cell_type": "code",
   "execution_count": 41,
   "id": "46ea8b7c",
   "metadata": {},
   "outputs": [
    {
     "data": {
      "text/html": [
       "<div>\n",
       "<style scoped>\n",
       "    .dataframe tbody tr th:only-of-type {\n",
       "        vertical-align: middle;\n",
       "    }\n",
       "\n",
       "    .dataframe tbody tr th {\n",
       "        vertical-align: top;\n",
       "    }\n",
       "\n",
       "    .dataframe thead th {\n",
       "        text-align: right;\n",
       "    }\n",
       "</style>\n",
       "<table border=\"1\" class=\"dataframe\">\n",
       "  <thead>\n",
       "    <tr style=\"text-align: right;\">\n",
       "      <th></th>\n",
       "      <th>Temp</th>\n",
       "      <th>Vacuum</th>\n",
       "      <th>Pressure</th>\n",
       "      <th>Humidity</th>\n",
       "      <th>TempDiff</th>\n",
       "      <th>PressureDiff</th>\n",
       "      <th>RHSquared</th>\n",
       "      <th>PowerPerFuel</th>\n",
       "      <th>TempVacuum</th>\n",
       "    </tr>\n",
       "  </thead>\n",
       "  <tbody>\n",
       "    <tr>\n",
       "      <th>1</th>\n",
       "      <td>5.76</td>\n",
       "      <td>40.07</td>\n",
       "      <td>1013.22</td>\n",
       "      <td>62.99</td>\n",
       "      <td>-34.31</td>\n",
       "      <td>973.15</td>\n",
       "      <td>3967.7401</td>\n",
       "      <td>2.143255</td>\n",
       "      <td>-34.31</td>\n",
       "    </tr>\n",
       "    <tr>\n",
       "      <th>3</th>\n",
       "      <td>32.83</td>\n",
       "      <td>74.33</td>\n",
       "      <td>1011.44</td>\n",
       "      <td>50.42</td>\n",
       "      <td>-41.50</td>\n",
       "      <td>937.11</td>\n",
       "      <td>2542.1764</td>\n",
       "      <td>0.175129</td>\n",
       "      <td>-41.50</td>\n",
       "    </tr>\n",
       "    <tr>\n",
       "      <th>6</th>\n",
       "      <td>24.56</td>\n",
       "      <td>66.75</td>\n",
       "      <td>1018.50</td>\n",
       "      <td>77.47</td>\n",
       "      <td>-42.19</td>\n",
       "      <td>951.75</td>\n",
       "      <td>6001.6009</td>\n",
       "      <td>0.265363</td>\n",
       "      <td>-42.19</td>\n",
       "    </tr>\n",
       "    <tr>\n",
       "      <th>7</th>\n",
       "      <td>18.83</td>\n",
       "      <td>47.83</td>\n",
       "      <td>1005.58</td>\n",
       "      <td>77.07</td>\n",
       "      <td>-29.00</td>\n",
       "      <td>957.75</td>\n",
       "      <td>5939.7849</td>\n",
       "      <td>0.504342</td>\n",
       "      <td>-29.00</td>\n",
       "    </tr>\n",
       "    <tr>\n",
       "      <th>9</th>\n",
       "      <td>22.09</td>\n",
       "      <td>65.59</td>\n",
       "      <td>1015.54</td>\n",
       "      <td>72.44</td>\n",
       "      <td>-43.50</td>\n",
       "      <td>949.95</td>\n",
       "      <td>5247.5536</td>\n",
       "      <td>0.308707</td>\n",
       "      <td>-43.50</td>\n",
       "    </tr>\n",
       "    <tr>\n",
       "      <th>...</th>\n",
       "      <td>...</td>\n",
       "      <td>...</td>\n",
       "      <td>...</td>\n",
       "      <td>...</td>\n",
       "      <td>...</td>\n",
       "      <td>...</td>\n",
       "      <td>...</td>\n",
       "      <td>...</td>\n",
       "      <td>...</td>\n",
       "    </tr>\n",
       "    <tr>\n",
       "      <th>6403</th>\n",
       "      <td>19.29</td>\n",
       "      <td>50.16</td>\n",
       "      <td>1010.49</td>\n",
       "      <td>97.78</td>\n",
       "      <td>-30.87</td>\n",
       "      <td>960.33</td>\n",
       "      <td>9560.9284</td>\n",
       "      <td>0.465292</td>\n",
       "      <td>-30.87</td>\n",
       "    </tr>\n",
       "    <tr>\n",
       "      <th>6404</th>\n",
       "      <td>23.50</td>\n",
       "      <td>50.78</td>\n",
       "      <td>1008.70</td>\n",
       "      <td>57.70</td>\n",
       "      <td>-27.28</td>\n",
       "      <td>957.92</td>\n",
       "      <td>3329.2900</td>\n",
       "      <td>0.372981</td>\n",
       "      <td>-27.28</td>\n",
       "    </tr>\n",
       "    <tr>\n",
       "      <th>6405</th>\n",
       "      <td>23.39</td>\n",
       "      <td>61.87</td>\n",
       "      <td>1010.35</td>\n",
       "      <td>48.91</td>\n",
       "      <td>-38.48</td>\n",
       "      <td>948.48</td>\n",
       "      <td>2392.1881</td>\n",
       "      <td>0.306833</td>\n",
       "      <td>-38.48</td>\n",
       "    </tr>\n",
       "    <tr>\n",
       "      <th>6408</th>\n",
       "      <td>12.26</td>\n",
       "      <td>41.50</td>\n",
       "      <td>1014.87</td>\n",
       "      <td>89.41</td>\n",
       "      <td>-29.24</td>\n",
       "      <td>973.37</td>\n",
       "      <td>7994.1481</td>\n",
       "      <td>0.925981</td>\n",
       "      <td>-29.24</td>\n",
       "    </tr>\n",
       "    <tr>\n",
       "      <th>6409</th>\n",
       "      <td>11.75</td>\n",
       "      <td>40.55</td>\n",
       "      <td>1018.09</td>\n",
       "      <td>97.70</td>\n",
       "      <td>-28.80</td>\n",
       "      <td>977.54</td>\n",
       "      <td>9545.2900</td>\n",
       "      <td>0.991537</td>\n",
       "      <td>-28.80</td>\n",
       "    </tr>\n",
       "  </tbody>\n",
       "</table>\n",
       "<p>2857 rows × 9 columns</p>\n",
       "</div>"
      ],
      "text/plain": [
       "       Temp  Vacuum  Pressure  Humidity  TempDiff  PressureDiff  RHSquared  \\\n",
       "1      5.76   40.07   1013.22     62.99    -34.31        973.15  3967.7401   \n",
       "3     32.83   74.33   1011.44     50.42    -41.50        937.11  2542.1764   \n",
       "6     24.56   66.75   1018.50     77.47    -42.19        951.75  6001.6009   \n",
       "7     18.83   47.83   1005.58     77.07    -29.00        957.75  5939.7849   \n",
       "9     22.09   65.59   1015.54     72.44    -43.50        949.95  5247.5536   \n",
       "...     ...     ...       ...       ...       ...           ...        ...   \n",
       "6403  19.29   50.16   1010.49     97.78    -30.87        960.33  9560.9284   \n",
       "6404  23.50   50.78   1008.70     57.70    -27.28        957.92  3329.2900   \n",
       "6405  23.39   61.87   1010.35     48.91    -38.48        948.48  2392.1881   \n",
       "6408  12.26   41.50   1014.87     89.41    -29.24        973.37  7994.1481   \n",
       "6409  11.75   40.55   1018.09     97.70    -28.80        977.54  9545.2900   \n",
       "\n",
       "      PowerPerFuel  TempVacuum  \n",
       "1         2.143255      -34.31  \n",
       "3         0.175129      -41.50  \n",
       "6         0.265363      -42.19  \n",
       "7         0.504342      -29.00  \n",
       "9         0.308707      -43.50  \n",
       "...            ...         ...  \n",
       "6403      0.465292      -30.87  \n",
       "6404      0.372981      -27.28  \n",
       "6405      0.306833      -38.48  \n",
       "6408      0.925981      -29.24  \n",
       "6409      0.991537      -28.80  \n",
       "\n",
       "[2857 rows x 9 columns]"
      ]
     },
     "execution_count": 41,
     "metadata": {},
     "output_type": "execute_result"
    }
   ],
   "source": [
    "#print X\n",
    "X"
   ]
  },
  {
   "cell_type": "code",
   "execution_count": 42,
   "id": "5e5ca3c2",
   "metadata": {},
   "outputs": [
    {
     "data": {
      "text/plain": [
       "1       494.67\n",
       "3       427.36\n",
       "6       435.03\n",
       "7       454.23\n",
       "9       447.28\n",
       "         ...  \n",
       "6403    450.21\n",
       "6404    445.09\n",
       "6405    444.03\n",
       "6408    471.13\n",
       "6409    472.43\n",
       "Name: Energy, Length: 2857, dtype: float64"
      ]
     },
     "execution_count": 42,
     "metadata": {},
     "output_type": "execute_result"
    }
   ],
   "source": [
    "#print y\n",
    "y"
   ]
  },
  {
   "cell_type": "markdown",
   "id": "333c673c",
   "metadata": {},
   "source": [
    "## 6.Split train and test data"
   ]
  },
  {
   "cell_type": "markdown",
   "id": "0d45d788",
   "metadata": {},
   "source": [
    "module : from sklearn.model_selection import train_test_split"
   ]
  },
  {
   "cell_type": "code",
   "execution_count": 43,
   "id": "8b44aa4f",
   "metadata": {},
   "outputs": [],
   "source": [
    "#split data into test and train with 80% train data, 20% test data\n",
    "X_train, X_test, y_train, y_test = train_test_split(X, y, test_size = 0.2 , random_state = 42)"
   ]
  },
  {
   "cell_type": "code",
   "execution_count": 44,
   "id": "d8a19e22",
   "metadata": {},
   "outputs": [
    {
     "data": {
      "text/plain": [
       "(2285, 9)"
      ]
     },
     "execution_count": 44,
     "metadata": {},
     "output_type": "execute_result"
    }
   ],
   "source": [
    "#check for the shape of train data\n",
    "X_train.shape"
   ]
  },
  {
   "cell_type": "code",
   "execution_count": 45,
   "id": "7293700e",
   "metadata": {},
   "outputs": [
    {
     "data": {
      "text/plain": [
       "(572, 9)"
      ]
     },
     "execution_count": 45,
     "metadata": {},
     "output_type": "execute_result"
    }
   ],
   "source": [
    "#check for the shape of test data\n",
    "X_test.shape"
   ]
  },
  {
   "cell_type": "markdown",
   "id": "c1fc57bc",
   "metadata": {},
   "source": [
    "## 7. Scaling Data"
   ]
  },
  {
   "cell_type": "code",
   "execution_count": 46,
   "id": "cbe6a92a",
   "metadata": {},
   "outputs": [],
   "source": [
    "#initialize StandardScaler\n",
    "SS = StandardScaler()"
   ]
  },
  {
   "cell_type": "code",
   "execution_count": 47,
   "id": "ac85089d",
   "metadata": {},
   "outputs": [],
   "source": [
    "# fit StandardScaler to train data\n",
    "X_train = SS.fit_transform(X_train)"
   ]
  },
  {
   "cell_type": "code",
   "execution_count": 48,
   "id": "f5e17250",
   "metadata": {},
   "outputs": [],
   "source": [
    "#using StandardScaler to test data\n",
    "X_test = SS.transform(X_test)"
   ]
  },
  {
   "cell_type": "code",
   "execution_count": 49,
   "id": "9f1ab7bf",
   "metadata": {},
   "outputs": [
    {
     "data": {
      "text/plain": [
       "array([[-0.62374615, -1.0139604 ,  0.66597523, ..., -0.76565884,\n",
       "         0.24500601,  1.09295457],\n",
       "       [ 0.47818564,  0.75173151, -0.17550822, ...,  0.64402855,\n",
       "        -0.64637876, -0.79459807],\n",
       "       [-0.21502963, -0.83762737, -0.77608986, ..., -0.00835126,\n",
       "        -0.09508853,  1.20210782],\n",
       "       ...,\n",
       "       [ 0.77871249,  0.39591664,  0.12394613, ..., -0.09101729,\n",
       "        -0.66901932,  0.10658186],\n",
       "       [-0.2644496 , -0.95413312,  0.60574978, ..., -0.91455085,\n",
       "         0.01990685,  1.34986406],\n",
       "       [ 0.71059307,  0.63286415, -0.52682339, ..., -0.32792315,\n",
       "        -0.68273328, -0.36197846]])"
      ]
     },
     "execution_count": 49,
     "metadata": {},
     "output_type": "execute_result"
    }
   ],
   "source": [
    "#print train data\n",
    "X_train"
   ]
  },
  {
   "cell_type": "code",
   "execution_count": 50,
   "id": "15e2e6ed",
   "metadata": {},
   "outputs": [
    {
     "data": {
      "text/plain": [
       "array([[ 1.73505572,  1.33898348, -1.5941523 , ..., -1.78526774,\n",
       "        -0.88022117, -0.5350263 ],\n",
       "       [ 2.06363174,  1.14769363, -1.1893034 , ..., -1.01301681,\n",
       "        -0.89617515,  0.11589982],\n",
       "       [ 0.9323151 ,  1.0492935 , -1.45028038, ...,  0.24355072,\n",
       "        -0.77352602, -0.84518128],\n",
       "       ...,\n",
       "       [ 0.58904666,  0.95876538, -0.56028197, ..., -0.82967568,\n",
       "        -0.69831081, -1.03420277],\n",
       "       [-0.44476571, -0.27399143,  0.13063784, ...,  2.14046447,\n",
       "        -0.14607006,  0.02005794],\n",
       "       [-0.21502963, -0.17952731, -1.1491531 , ...,  2.14046447,\n",
       "        -0.28265592,  0.08927707]])"
      ]
     },
     "execution_count": 50,
     "metadata": {},
     "output_type": "execute_result"
    }
   ],
   "source": [
    "#print test data\n",
    "X_test"
   ]
  },
  {
   "cell_type": "markdown",
   "id": "adc89b44",
   "metadata": {},
   "source": [
    "## 8. Model Building and Evaluation"
   ]
  },
  {
   "cell_type": "markdown",
   "id": "f8c185e4",
   "metadata": {},
   "source": [
    "### 8.1  Linear Regression"
   ]
  },
  {
   "cell_type": "markdown",
   "id": "8a476771",
   "metadata": {},
   "source": [
    "module :\n",
    "\n",
    "        from sklearn.linear_model import LinearRegression\n",
    "        from sklearn.model_selection import GridSearchCV"
   ]
  },
  {
   "cell_type": "code",
   "execution_count": 51,
   "id": "d01255ed",
   "metadata": {},
   "outputs": [
    {
     "name": "stdout",
     "output_type": "stream",
     "text": [
      "Fitting 5 folds for each of 8 candidates, totalling 40 fits\n",
      "[CV] END .....copy_X=True, fit_intercept=True, positive=True; total time=   0.0s\n",
      "[CV] END .....copy_X=True, fit_intercept=True, positive=True; total time=   0.0s\n",
      "[CV] END .....copy_X=True, fit_intercept=True, positive=True; total time=   0.0s\n",
      "[CV] END .....copy_X=True, fit_intercept=True, positive=True; total time=   0.0s\n",
      "[CV] END .....copy_X=True, fit_intercept=True, positive=True; total time=   0.0s\n",
      "[CV] END ....copy_X=True, fit_intercept=True, positive=False; total time=   0.0s\n",
      "[CV] END ....copy_X=True, fit_intercept=True, positive=False; total time=   0.0s\n",
      "[CV] END ....copy_X=True, fit_intercept=True, positive=False; total time=   0.0s\n",
      "[CV] END ....copy_X=True, fit_intercept=True, positive=False; total time=   0.0s\n",
      "[CV] END ....copy_X=True, fit_intercept=True, positive=False; total time=   0.0s\n",
      "[CV] END ....copy_X=True, fit_intercept=False, positive=True; total time=   0.0s\n",
      "[CV] END ....copy_X=True, fit_intercept=False, positive=True; total time=   0.0s\n",
      "[CV] END ....copy_X=True, fit_intercept=False, positive=True; total time=   0.0s\n",
      "[CV] END ....copy_X=True, fit_intercept=False, positive=True; total time=   0.0s\n",
      "[CV] END ....copy_X=True, fit_intercept=False, positive=True; total time=   0.0s\n",
      "[CV] END ...copy_X=True, fit_intercept=False, positive=False; total time=   0.0s\n",
      "[CV] END ...copy_X=True, fit_intercept=False, positive=False; total time=   0.0s\n",
      "[CV] END ...copy_X=True, fit_intercept=False, positive=False; total time=   0.0s\n",
      "[CV] END ...copy_X=True, fit_intercept=False, positive=False; total time=   0.0s\n",
      "[CV] END ...copy_X=True, fit_intercept=False, positive=False; total time=   0.0s\n",
      "[CV] END ....copy_X=False, fit_intercept=True, positive=True; total time=   0.0s\n",
      "[CV] END ....copy_X=False, fit_intercept=True, positive=True; total time=   0.0s\n",
      "[CV] END ....copy_X=False, fit_intercept=True, positive=True; total time=   0.0s\n",
      "[CV] END ....copy_X=False, fit_intercept=True, positive=True; total time=   0.0s\n",
      "[CV] END ....copy_X=False, fit_intercept=True, positive=True; total time=   0.0s\n",
      "[CV] END ...copy_X=False, fit_intercept=True, positive=False; total time=   0.0s\n",
      "[CV] END ...copy_X=False, fit_intercept=True, positive=False; total time=   0.0s\n",
      "[CV] END ...copy_X=False, fit_intercept=True, positive=False; total time=   0.0s\n",
      "[CV] END ...copy_X=False, fit_intercept=True, positive=False; total time=   0.0s\n",
      "[CV] END ...copy_X=False, fit_intercept=True, positive=False; total time=   0.0s\n",
      "[CV] END ...copy_X=False, fit_intercept=False, positive=True; total time=   0.0s\n",
      "[CV] END ...copy_X=False, fit_intercept=False, positive=True; total time=   0.0s\n",
      "[CV] END ...copy_X=False, fit_intercept=False, positive=True; total time=   0.0s\n",
      "[CV] END ...copy_X=False, fit_intercept=False, positive=True; total time=   0.0s\n",
      "[CV] END ...copy_X=False, fit_intercept=False, positive=True; total time=   0.0s\n",
      "[CV] END ..copy_X=False, fit_intercept=False, positive=False; total time=   0.0s\n",
      "[CV] END ..copy_X=False, fit_intercept=False, positive=False; total time=   0.0s\n",
      "[CV] END ..copy_X=False, fit_intercept=False, positive=False; total time=   0.0s\n",
      "[CV] END ..copy_X=False, fit_intercept=False, positive=False; total time=   0.0s\n",
      "[CV] END ..copy_X=False, fit_intercept=False, positive=False; total time=   0.0s\n"
     ]
    },
    {
     "data": {
      "text/plain": [
       "GridSearchCV(cv=5, estimator=LinearRegression(),\n",
       "             param_grid={'copy_X': [True, False],\n",
       "                         'fit_intercept': [True, False],\n",
       "                         'positive': [True, False]},\n",
       "             verbose=2)"
      ]
     },
     "execution_count": 51,
     "metadata": {},
     "output_type": "execute_result"
    }
   ],
   "source": [
    "## define hyper parameters\n",
    "param_grid_lr = {'fit_intercept': [True, False], 'copy_X' : [True, False], 'positive': [True, False]}\n",
    "\n",
    "grid_lr = GridSearchCV(LinearRegression(),param_grid_lr, cv = 5 , verbose = 2 )\n",
    "\n",
    "#fit the model\n",
    "grid_lr.fit(X_train, y_train)"
   ]
  },
  {
   "cell_type": "code",
   "execution_count": 52,
   "id": "cef44974",
   "metadata": {},
   "outputs": [
    {
     "data": {
      "text/plain": [
       "{'copy_X': True, 'fit_intercept': True, 'positive': False}"
      ]
     },
     "execution_count": 52,
     "metadata": {},
     "output_type": "execute_result"
    }
   ],
   "source": [
    "#check for best parameters\n",
    "grid_lr.best_params_"
   ]
  },
  {
   "cell_type": "code",
   "execution_count": 53,
   "id": "435a7632",
   "metadata": {},
   "outputs": [],
   "source": [
    "#predict the model\n",
    "y_pred_lr = grid_lr.predict(X_test)"
   ]
  },
  {
   "cell_type": "code",
   "execution_count": 54,
   "id": "e3b2d4ff",
   "metadata": {},
   "outputs": [
    {
     "name": "stdout",
     "output_type": "stream",
     "text": [
      "Mean squared error :  20.485333547357705\n",
      "Mean absolute error :  3.707556602482927\n",
      "R2 score :  0.9287155468202767\n"
     ]
    }
   ],
   "source": [
    "# evaluation the model\n",
    "\n",
    "print(\"Mean squared error : \", mean_squared_error(y_test, y_pred_lr))\n",
    "print(\"Mean absolute error : \", mean_absolute_error(y_test, y_pred_lr))\n",
    "print(\"R2 score : \", r2_score(y_test, y_pred_lr))"
   ]
  },
  {
   "cell_type": "markdown",
   "id": "7e7b95a5",
   "metadata": {},
   "source": [
    "### 8.2 Decision Tree Regressor"
   ]
  },
  {
   "cell_type": "markdown",
   "id": "ab649069",
   "metadata": {},
   "source": [
    "module : from sklearn.tree import DecisionTreeRegressor"
   ]
  },
  {
   "cell_type": "code",
   "execution_count": 55,
   "id": "f3b199d8",
   "metadata": {},
   "outputs": [
    {
     "name": "stdout",
     "output_type": "stream",
     "text": [
      "Fitting 5 folds for each of 4 candidates, totalling 20 fits\n",
      "[CV] END ........................................max_depth=5; total time=   0.0s\n",
      "[CV] END ........................................max_depth=5; total time=   0.0s\n",
      "[CV] END ........................................max_depth=5; total time=   0.0s\n",
      "[CV] END ........................................max_depth=5; total time=   0.0s\n",
      "[CV] END ........................................max_depth=5; total time=   0.0s\n",
      "[CV] END .......................................max_depth=10; total time=   0.0s\n",
      "[CV] END .......................................max_depth=10; total time=   0.0s\n",
      "[CV] END .......................................max_depth=10; total time=   0.0s\n",
      "[CV] END .......................................max_depth=10; total time=   0.0s\n",
      "[CV] END .......................................max_depth=10; total time=   0.0s\n",
      "[CV] END .......................................max_depth=20; total time=   0.0s\n",
      "[CV] END .......................................max_depth=20; total time=   0.0s\n",
      "[CV] END .......................................max_depth=20; total time=   0.0s\n",
      "[CV] END .......................................max_depth=20; total time=   0.0s\n",
      "[CV] END .......................................max_depth=20; total time=   0.0s\n",
      "[CV] END .......................................max_depth=50; total time=   0.0s\n",
      "[CV] END .......................................max_depth=50; total time=   0.0s\n",
      "[CV] END .......................................max_depth=50; total time=   0.0s\n",
      "[CV] END .......................................max_depth=50; total time=   0.0s\n",
      "[CV] END .......................................max_depth=50; total time=   0.0s\n"
     ]
    },
    {
     "data": {
      "text/plain": [
       "GridSearchCV(cv=5, estimator=DecisionTreeRegressor(),\n",
       "             param_grid={'max_depth': [5, 10, 20, 50]}, verbose=2)"
      ]
     },
     "execution_count": 55,
     "metadata": {},
     "output_type": "execute_result"
    }
   ],
   "source": [
    "# define hyper parameters\n",
    "param_grid_dt = {\"max_depth\" : [5,10, 20, 50]}\n",
    "\n",
    "grid_dt = GridSearchCV(DecisionTreeRegressor(), param_grid_dt, cv =5, verbose = 2)\n",
    "\n",
    "#fit the model\n",
    "grid_dt.fit(X_train, y_train)"
   ]
  },
  {
   "cell_type": "code",
   "execution_count": 56,
   "id": "fa176391",
   "metadata": {},
   "outputs": [
    {
     "data": {
      "text/plain": [
       "{'max_depth': 5}"
      ]
     },
     "execution_count": 56,
     "metadata": {},
     "output_type": "execute_result"
    }
   ],
   "source": [
    "#check for best parameters\n",
    "grid_dt.best_params_"
   ]
  },
  {
   "cell_type": "code",
   "execution_count": 57,
   "id": "72638097",
   "metadata": {},
   "outputs": [],
   "source": [
    "#predict the model\n",
    "y_pred_dt = grid_dt.predict(X_test)"
   ]
  },
  {
   "cell_type": "code",
   "execution_count": 58,
   "id": "9d548f40",
   "metadata": {},
   "outputs": [
    {
     "name": "stdout",
     "output_type": "stream",
     "text": [
      "Mean squared error :  17.56886141825935\n",
      "Mean absolute error :  3.331120347679064\n",
      "R2 score :  0.938864228092957\n"
     ]
    }
   ],
   "source": [
    "#evaluate the model\n",
    "\n",
    "print(\"Mean squared error : \", mean_squared_error(y_test, y_pred_dt))\n",
    "print(\"Mean absolute error : \", mean_absolute_error(y_test, y_pred_dt))\n",
    "print(\"R2 score : \", r2_score(y_test, y_pred_dt))"
   ]
  },
  {
   "cell_type": "markdown",
   "id": "88c75714",
   "metadata": {},
   "source": [
    "### 8.3 Random Forest regressor"
   ]
  },
  {
   "cell_type": "markdown",
   "id": "55943414",
   "metadata": {},
   "source": [
    "module : from sklearn.ensemble import RandomForestRegressor"
   ]
  },
  {
   "cell_type": "code",
   "execution_count": 60,
   "id": "385a8c34",
   "metadata": {},
   "outputs": [
    {
     "name": "stdout",
     "output_type": "stream",
     "text": [
      "Fitting 5 folds for each of 16 candidates, totalling 80 fits\n",
      "[CV] END .......................max_depth=5, n_estimators=10; total time=   0.0s\n",
      "[CV] END .......................max_depth=5, n_estimators=10; total time=   0.0s\n",
      "[CV] END .......................max_depth=5, n_estimators=10; total time=   0.0s\n",
      "[CV] END .......................max_depth=5, n_estimators=10; total time=   0.0s\n",
      "[CV] END .......................max_depth=5, n_estimators=10; total time=   0.0s\n",
      "[CV] END .......................max_depth=5, n_estimators=50; total time=   0.4s\n",
      "[CV] END .......................max_depth=5, n_estimators=50; total time=   0.3s\n",
      "[CV] END .......................max_depth=5, n_estimators=50; total time=   0.2s\n",
      "[CV] END .......................max_depth=5, n_estimators=50; total time=   0.2s\n",
      "[CV] END .......................max_depth=5, n_estimators=50; total time=   0.2s\n",
      "[CV] END ......................max_depth=5, n_estimators=100; total time=   0.6s\n",
      "[CV] END ......................max_depth=5, n_estimators=100; total time=   0.6s\n",
      "[CV] END ......................max_depth=5, n_estimators=100; total time=   0.5s\n",
      "[CV] END ......................max_depth=5, n_estimators=100; total time=   0.7s\n",
      "[CV] END ......................max_depth=5, n_estimators=100; total time=   0.5s\n",
      "[CV] END ......................max_depth=5, n_estimators=500; total time=   3.4s\n",
      "[CV] END ......................max_depth=5, n_estimators=500; total time=   2.5s\n",
      "[CV] END ......................max_depth=5, n_estimators=500; total time=   2.5s\n",
      "[CV] END ......................max_depth=5, n_estimators=500; total time=   2.6s\n",
      "[CV] END ......................max_depth=5, n_estimators=500; total time=   2.5s\n",
      "[CV] END ......................max_depth=10, n_estimators=10; total time=   0.1s\n",
      "[CV] END ......................max_depth=10, n_estimators=10; total time=   0.1s\n",
      "[CV] END ......................max_depth=10, n_estimators=10; total time=   0.1s\n",
      "[CV] END ......................max_depth=10, n_estimators=10; total time=   0.0s\n",
      "[CV] END ......................max_depth=10, n_estimators=10; total time=   0.0s\n",
      "[CV] END ......................max_depth=10, n_estimators=50; total time=   0.3s\n",
      "[CV] END ......................max_depth=10, n_estimators=50; total time=   0.3s\n",
      "[CV] END ......................max_depth=10, n_estimators=50; total time=   0.2s\n",
      "[CV] END ......................max_depth=10, n_estimators=50; total time=   0.2s\n",
      "[CV] END ......................max_depth=10, n_estimators=50; total time=   0.2s\n",
      "[CV] END .....................max_depth=10, n_estimators=100; total time=   0.5s\n",
      "[CV] END .....................max_depth=10, n_estimators=100; total time=   0.6s\n",
      "[CV] END .....................max_depth=10, n_estimators=100; total time=   0.8s\n",
      "[CV] END .....................max_depth=10, n_estimators=100; total time=   0.6s\n",
      "[CV] END .....................max_depth=10, n_estimators=100; total time=   0.7s\n",
      "[CV] END .....................max_depth=10, n_estimators=500; total time=   3.9s\n",
      "[CV] END .....................max_depth=10, n_estimators=500; total time=   3.6s\n",
      "[CV] END .....................max_depth=10, n_estimators=500; total time=   4.2s\n",
      "[CV] END .....................max_depth=10, n_estimators=500; total time=   3.5s\n",
      "[CV] END .....................max_depth=10, n_estimators=500; total time=   3.3s\n",
      "[CV] END ......................max_depth=20, n_estimators=10; total time=   0.0s\n",
      "[CV] END ......................max_depth=20, n_estimators=10; total time=   0.0s\n",
      "[CV] END ......................max_depth=20, n_estimators=10; total time=   0.0s\n",
      "[CV] END ......................max_depth=20, n_estimators=10; total time=   0.0s\n",
      "[CV] END ......................max_depth=20, n_estimators=10; total time=   0.0s\n",
      "[CV] END ......................max_depth=20, n_estimators=50; total time=   0.3s\n",
      "[CV] END ......................max_depth=20, n_estimators=50; total time=   0.3s\n",
      "[CV] END ......................max_depth=20, n_estimators=50; total time=   0.3s\n",
      "[CV] END ......................max_depth=20, n_estimators=50; total time=   0.3s\n",
      "[CV] END ......................max_depth=20, n_estimators=50; total time=   0.3s\n",
      "[CV] END .....................max_depth=20, n_estimators=100; total time=   0.7s\n",
      "[CV] END .....................max_depth=20, n_estimators=100; total time=   0.7s\n",
      "[CV] END .....................max_depth=20, n_estimators=100; total time=   0.7s\n",
      "[CV] END .....................max_depth=20, n_estimators=100; total time=   0.7s\n",
      "[CV] END .....................max_depth=20, n_estimators=100; total time=   0.7s\n",
      "[CV] END .....................max_depth=20, n_estimators=500; total time=   3.9s\n",
      "[CV] END .....................max_depth=20, n_estimators=500; total time=   4.4s\n",
      "[CV] END .....................max_depth=20, n_estimators=500; total time=   4.2s\n",
      "[CV] END .....................max_depth=20, n_estimators=500; total time=   4.7s\n",
      "[CV] END .....................max_depth=20, n_estimators=500; total time=   4.3s\n",
      "[CV] END ......................max_depth=50, n_estimators=10; total time=   0.0s\n",
      "[CV] END ......................max_depth=50, n_estimators=10; total time=   0.0s\n",
      "[CV] END ......................max_depth=50, n_estimators=10; total time=   0.0s\n",
      "[CV] END ......................max_depth=50, n_estimators=10; total time=   0.0s\n",
      "[CV] END ......................max_depth=50, n_estimators=10; total time=   0.0s\n",
      "[CV] END ......................max_depth=50, n_estimators=50; total time=   0.3s\n",
      "[CV] END ......................max_depth=50, n_estimators=50; total time=   0.4s\n",
      "[CV] END ......................max_depth=50, n_estimators=50; total time=   0.3s\n",
      "[CV] END ......................max_depth=50, n_estimators=50; total time=   0.3s\n",
      "[CV] END ......................max_depth=50, n_estimators=50; total time=   0.3s\n",
      "[CV] END .....................max_depth=50, n_estimators=100; total time=   0.7s\n",
      "[CV] END .....................max_depth=50, n_estimators=100; total time=   0.8s\n",
      "[CV] END .....................max_depth=50, n_estimators=100; total time=   0.8s\n",
      "[CV] END .....................max_depth=50, n_estimators=100; total time=   0.9s\n",
      "[CV] END .....................max_depth=50, n_estimators=100; total time=   0.8s\n",
      "[CV] END .....................max_depth=50, n_estimators=500; total time=   4.5s\n",
      "[CV] END .....................max_depth=50, n_estimators=500; total time=   4.9s\n",
      "[CV] END .....................max_depth=50, n_estimators=500; total time=   4.8s\n",
      "[CV] END .....................max_depth=50, n_estimators=500; total time=   4.9s\n",
      "[CV] END .....................max_depth=50, n_estimators=500; total time=   4.9s\n"
     ]
    },
    {
     "data": {
      "text/plain": [
       "GridSearchCV(cv=5, estimator=RandomForestRegressor(),\n",
       "             param_grid={'max_depth': [5, 10, 20, 50],\n",
       "                         'n_estimators': [10, 50, 100, 500]},\n",
       "             verbose=2)"
      ]
     },
     "execution_count": 60,
     "metadata": {},
     "output_type": "execute_result"
    }
   ],
   "source": [
    "# define hyper parameters\n",
    "param_grid_rf = {'n_estimators':[10,50,100,500], 'max_depth': [5,10,20,50]}\n",
    "\n",
    "grid_rf = GridSearchCV(RandomForestRegressor(),param_grid_rf, cv = 5, verbose = 2)\n",
    "\n",
    "#fit the model\n",
    "grid_rf.fit(X_train, y_train)"
   ]
  },
  {
   "cell_type": "code",
   "execution_count": 61,
   "id": "26d22391",
   "metadata": {},
   "outputs": [
    {
     "data": {
      "text/plain": [
       "{'max_depth': 20, 'n_estimators': 500}"
      ]
     },
     "execution_count": 61,
     "metadata": {},
     "output_type": "execute_result"
    }
   ],
   "source": [
    "# best parameters\n",
    "grid_rf.best_params_"
   ]
  },
  {
   "cell_type": "code",
   "execution_count": 62,
   "id": "055882ef",
   "metadata": {},
   "outputs": [],
   "source": [
    "#predict the model\n",
    "y_pred_rf = grid_rf.predict(X_test)"
   ]
  },
  {
   "cell_type": "code",
   "execution_count": 63,
   "id": "b945a141",
   "metadata": {},
   "outputs": [
    {
     "name": "stdout",
     "output_type": "stream",
     "text": [
      "Mean squared error :  12.19708627771097\n",
      "Mean absolute error :  2.722428418721441\n",
      "R2 score :  0.9575568235839303\n"
     ]
    }
   ],
   "source": [
    "#evaluate the model\n",
    "\n",
    "print(\"Mean squared error : \", mean_squared_error(y_test, y_pred_rf))\n",
    "print(\"Mean absolute error : \", mean_absolute_error(y_test, y_pred_rf))\n",
    "print(\"R2 score : \", r2_score(y_test, y_pred_rf))"
   ]
  },
  {
   "cell_type": "markdown",
   "id": "4f401b9e",
   "metadata": {},
   "source": [
    "### 8.4 KNN Regressor"
   ]
  },
  {
   "cell_type": "markdown",
   "id": "3f2a39c0",
   "metadata": {},
   "source": [
    "module : from sklearn.neighbors import KNeighborsRegressor"
   ]
  },
  {
   "cell_type": "code",
   "execution_count": 65,
   "id": "7597dbe5",
   "metadata": {},
   "outputs": [
    {
     "name": "stdout",
     "output_type": "stream",
     "text": [
      "Fitting 5 folds for each of 4 candidates, totalling 20 fits\n",
      "[CV] END ......................................n_neighbors=5; total time=   0.0s\n",
      "[CV] END ......................................n_neighbors=5; total time=   0.0s\n",
      "[CV] END ......................................n_neighbors=5; total time=   0.0s\n",
      "[CV] END ......................................n_neighbors=5; total time=   0.0s\n",
      "[CV] END ......................................n_neighbors=5; total time=   0.0s\n",
      "[CV] END .....................................n_neighbors=10; total time=   0.0s\n",
      "[CV] END .....................................n_neighbors=10; total time=   0.0s\n",
      "[CV] END .....................................n_neighbors=10; total time=   0.0s\n",
      "[CV] END .....................................n_neighbors=10; total time=   0.0s\n",
      "[CV] END .....................................n_neighbors=10; total time=   0.0s\n",
      "[CV] END .....................................n_neighbors=20; total time=   0.0s\n",
      "[CV] END .....................................n_neighbors=20; total time=   0.0s\n",
      "[CV] END .....................................n_neighbors=20; total time=   0.0s\n",
      "[CV] END .....................................n_neighbors=20; total time=   0.0s\n",
      "[CV] END .....................................n_neighbors=20; total time=   0.0s\n",
      "[CV] END .....................................n_neighbors=50; total time=   0.0s\n",
      "[CV] END .....................................n_neighbors=50; total time=   0.0s\n",
      "[CV] END .....................................n_neighbors=50; total time=   0.0s\n",
      "[CV] END .....................................n_neighbors=50; total time=   0.0s\n",
      "[CV] END .....................................n_neighbors=50; total time=   0.0s\n"
     ]
    },
    {
     "data": {
      "text/plain": [
       "GridSearchCV(cv=5, estimator=KNeighborsRegressor(),\n",
       "             param_grid={'n_neighbors': [5, 10, 20, 50]}, verbose=2)"
      ]
     },
     "execution_count": 65,
     "metadata": {},
     "output_type": "execute_result"
    }
   ],
   "source": [
    "# define hyper parameters\n",
    "param_grid_knn ={'n_neighbors': [5,10,20,50]}\n",
    "\n",
    "grid_knn = GridSearchCV(KNeighborsRegressor(),param_grid_knn, cv = 5, verbose = 2)\n",
    "\n",
    "#fit the model\n",
    "grid_knn.fit(X_train, y_train)"
   ]
  },
  {
   "cell_type": "code",
   "execution_count": 66,
   "id": "74f64246",
   "metadata": {},
   "outputs": [
    {
     "data": {
      "text/plain": [
       "{'n_neighbors': 5}"
      ]
     },
     "execution_count": 66,
     "metadata": {},
     "output_type": "execute_result"
    }
   ],
   "source": [
    "#best parameters\n",
    "grid_knn.best_params_"
   ]
  },
  {
   "cell_type": "code",
   "execution_count": 67,
   "id": "2dbd5294",
   "metadata": {},
   "outputs": [],
   "source": [
    "#predict the model\n",
    "y_pred_knn = grid_knn.predict(X_test)"
   ]
  },
  {
   "cell_type": "code",
   "execution_count": 68,
   "id": "a2651851",
   "metadata": {},
   "outputs": [
    {
     "name": "stdout",
     "output_type": "stream",
     "text": [
      "Mean squared error :  16.81877707692308\n",
      "Mean absolute error :  3.1828321678321667\n",
      "R2 score :  0.9414743565532635\n"
     ]
    }
   ],
   "source": [
    "# evaluate the model\n",
    "\n",
    "print(\"Mean squared error : \", mean_squared_error(y_test, y_pred_knn))\n",
    "print(\"Mean absolute error : \", mean_absolute_error(y_test, y_pred_knn))\n",
    "print(\"R2 score : \", r2_score(y_test, y_pred_knn))"
   ]
  },
  {
   "cell_type": "markdown",
   "id": "24bb2a76",
   "metadata": {},
   "source": [
    "## 9.Model Comparison"
   ]
  },
  {
   "cell_type": "markdown",
   "id": "8c5a9156",
   "metadata": {},
   "source": [
    "Linear Regresssion :\n",
    "    \n",
    "        Mean squared error :  20.485333547357705\n",
    "        Mean absolute error :  3.707556602482927\n",
    "        R2 score :  0.9287155468202767\n",
    "        \n",
    "K Neighbors Regressor :\n",
    "\n",
    "        Mean squared error :  16.81877707692308\n",
    "        Mean absolute error :  3.1828321678321667\n",
    "        R2 score :  0.9414743565532635\n",
    "        \n",
    "Random Forest Regressor: \n",
    "        \n",
    "        Mean squared error :  12.19708627771097\n",
    "        Mean absolute error :  2.722428418721441\n",
    "        R2 score :  0.9575568235839303\n",
    "        \n",
    "Decision Tree Regressor:\n",
    "        \n",
    "        Mean squared error :  17.56886141825935\n",
    "        Mean absolute error :  3.331120347679064\n",
    "        R2 score :  0.938864228092957\n",
    "       "
   ]
  },
  {
   "cell_type": "markdown",
   "id": "3cbb55ac",
   "metadata": {},
   "source": [
    "The results  show the evaluation metrics for four different regression models: \n",
    "\n",
    "Linear Regression, K Neighbors Regressor, Random Forest Regressor, and Decision Tree Regressor. \n",
    "\n",
    "These metrics are commonly used to assess the performance of regression models. Here's a brief explanation of each metric:\n",
    "\n",
    "**Mean Squared Error (MSE)**: MSE measures the average squared difference between the predicted and actual values. It gives an idea of how close the predicted values are to the actual values, with lower values indicating better performance.\n",
    "\n",
    "**Mean Absolute Error (MAE)**: MAE measures the average absolute difference between the predicted and actual values. It provides a measure of the average magnitude of errors, regardless of their direction.\n",
    "\n",
    "**R2 Score (Coefficient of Determination)**: R2 score represents the proportion of the variance in the target variable that can be explained by the independent variables in the model. It ranges from 0 to 1, with higher values indicating a better fit of the model to the data.\n",
    "\n",
    "Based on the results , it appears that the **Random Forest Regressor** has the **lowest mean squared error (12.197) and mean absolute error (2.722)**, indicating better performance in terms of minimizing the prediction errors. Additionally, it has the **highest R2 score (0.958)**, suggesting a better fit of the model to the data compared to the other models."
   ]
  },
  {
   "cell_type": "markdown",
   "id": "c0687174",
   "metadata": {},
   "source": [
    "## 10. Final Model"
   ]
  },
  {
   "cell_type": "markdown",
   "id": "1524c266",
   "metadata": {},
   "source": [
    "### Random Forest Regressor"
   ]
  },
  {
   "cell_type": "code",
   "execution_count": 70,
   "id": "11932b87",
   "metadata": {},
   "outputs": [],
   "source": [
    "final_model = RandomForestRegressor(max_depth=20, n_estimators=500)\n",
    "final_model.fit(X_train, y_train)\n",
    "y_pred = final_model.predict(X_test)\n"
   ]
  },
  {
   "cell_type": "code",
   "execution_count": 71,
   "id": "56060925",
   "metadata": {},
   "outputs": [
    {
     "name": "stdout",
     "output_type": "stream",
     "text": [
      "Mean Squared Error: 12.202818111930162\n",
      "Mean Absolute Error: 2.719547145841835\n",
      "R2 Score: 0.9575368780620725\n"
     ]
    }
   ],
   "source": [
    "mse = mean_squared_error(y_test, y_pred)\n",
    "mae = mean_absolute_error(y_test, y_pred)\n",
    "r2 = r2_score(y_test, y_pred)\n",
    "\n",
    "print(\"Mean Squared Error:\", mse)\n",
    "print(\"Mean Absolute Error:\", mae)\n",
    "print(\"R2 Score:\", r2)\n"
   ]
  },
  {
   "cell_type": "markdown",
   "id": "5000b279",
   "metadata": {},
   "source": [
    "## Conclusion"
   ]
  },
  {
   "cell_type": "markdown",
   "id": "f8cb03e2",
   "metadata": {},
   "source": [
    "Throughout the project, several steps were undertaken, including exploratory data analysis (EDA), preprocessing, handling null values, dropping unwanted columns, and applying standard scaling. Afterward, four different regression models were compared to predict the net hourly electrical energy output of the combined-cycle power plant. Among these models, the **Random Forest Regressor with the best parameters (max-depth = 20, n_estimators = 500) was selected.**\n",
    "\n",
    "The performance of the selected Random Forest Regressor model was evaluated using the following metrics: \n",
    "\n",
    "        Mean Absolute Error (MAE)        \n",
    "        Mean Squared Error (MSE)\n",
    "        R2 Score\n",
    "        \n",
    "Based on these evaluation metrics, the **Random Forest Regressor model with a max depth of 20 and 500 estimators demonstrated superior performance**. It achieved a relatively low MAE and MSE, indicating accurate predictions with minimal errors. Additionally, the high R2 score suggests that the model captured the underlying patterns and relationships in the data effectively.\n",
    "\n",
    "Overall, the project involved extensive data exploration, preprocessing, and model selection. The Random Forest Regressor, with the specified parameters, proved to be the best model for **predicting the net hourly electrical energy output of the combined-cycle power plant**, achieving impressive accuracy as indicated by the MAE, MSE, and R2 score.        "
   ]
  },
  {
   "cell_type": "code",
   "execution_count": null,
   "id": "aadca0a8",
   "metadata": {},
   "outputs": [],
   "source": []
  }
 ],
 "metadata": {
  "kernelspec": {
   "display_name": "Python 3 (ipykernel)",
   "language": "python",
   "name": "python3"
  },
  "language_info": {
   "codemirror_mode": {
    "name": "ipython",
    "version": 3
   },
   "file_extension": ".py",
   "mimetype": "text/x-python",
   "name": "python",
   "nbconvert_exporter": "python",
   "pygments_lexer": "ipython3",
   "version": "3.9.12"
  }
 },
 "nbformat": 4,
 "nbformat_minor": 5
}
